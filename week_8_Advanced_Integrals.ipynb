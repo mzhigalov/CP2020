{
 "cells": [
  {
   "cell_type": "markdown",
   "metadata": {},
   "source": [
    "## Part 1. Gaussian quadrature\n",
    "\n",
    "The Gaussian quadrature method is one of the methods of numerical integration that allows you to increase the accuracy of integration, by using orthogonal polynomials and their roots as nodes.\n",
    "\n",
    "$$\n",
    "\\int_a^b \\!  w(x)\\, f(x)\\, dx \\approx \\sum_{k=1}^n w_k \\, f(x_k) \\;,\n",
    "$$\n",
    "\n",
    "here $\\omega$ is the weight function, this weight function determines the basis of orthogonal polynomials whose roots are used as integration nodes. If the function $f(x)$ is a polynomial, then such an integration method gives *exact* value for the integral."
   ]
  },
  {
   "cell_type": "markdown",
   "metadata": {},
   "source": [
    "For example, let's calculate the following integral:\n",
    "$$\n",
    "\\int_{-1}^1 (7x^3 - 8 x^2 - 3 x + 3) dx  \\label{eq1}\\tag{1}\n",
    "$$\n",
    "\n",
    "Here function is already polynomial, so we put the weight function $\\omega(x) = 1$. Then the calculation of the integral reduces to the sum in the polynomials roots witch corresponding to the weight function $\\omega(x) = 1$. For example, here https://dlmf.nist.gov/18.3 you may see which basis of polynomials corresponds to your weight function.\n",
    "\n",
    "You may see, that Legendre polynomials correspond to our weight function. Now go to the documentation https://docs.scipy.org/doc/scipy/reference/special.html#orthogonal-polynomials. Here, the function *roots_legendre* immediately gives you the roots of the Legendre polynomial and weight at this roots (for Legendre polynomials all these weight are ones).\n"
   ]
  },
  {
   "cell_type": "markdown",
   "metadata": {},
   "source": [
    "### Task 1.1\n",
    "(20% of the grade)"
   ]
  },
  {
   "cell_type": "markdown",
   "metadata": {},
   "source": [
    "1. Calculate the exact value of the integral ([1](#mjx-eqn-eq1)) using a pen and paper (or in your mind). Remember it, then you will compare numerical results with it."
   ]
  },
  {
   "cell_type": "code",
   "execution_count": 78,
   "metadata": {},
   "outputs": [],
   "source": [
    "exact = 2/3"
   ]
  },
  {
   "cell_type": "markdown",
   "metadata": {},
   "source": [
    "2. Calculate the value of the integral ([1](#mjx-eqn-eq1)) using the usual method of numerical integration on a uniform grid (for example, implemented by you in week_6_calculus homework). Estimate the number of nodes needed to achieve relative accuracy $10^{-10}$."
   ]
  },
  {
   "cell_type": "code",
   "execution_count": 95,
   "metadata": {},
   "outputs": [
    {
     "name": "stdout",
     "output_type": "stream",
     "text": [
      "nodes =  200 , value of integral = 0.5002\n",
      "nodes =  400 , value of integral = 0.5834500000000005\n",
      "nodes =  800 , value of integral = 0.6250625000000001\n",
      "nodes =  1600 , value of integral = 0.6458656249999993\n",
      "nodes =  3200 , value of integral = 0.6562664062500008\n",
      "nodes =  6400 , value of integral = 0.6614666015625025\n",
      "nodes =  12800 , value of integral = 0.6640666503906286\n",
      "nodes =  25600 , value of integral = 0.6653666625976578\n",
      "nodes =  51200 , value of integral = 0.6660166656494174\n",
      "nodes =  102400 , value of integral = 0.6663416664123534\n",
      "nodes =  204800 , value of integral = 0.6665041666030705\n",
      "nodes =  409600 , value of integral = 0.6665854166507593\n",
      "nodes =  819200 , value of integral = 0.6666260416626973\n",
      "nodes =  1638400 , value of integral = 0.6666463541656847\n",
      "nodes =  3276800 , value of integral = 0.6666565104164863\n",
      "nodes =  6553600 , value of integral = 0.6666615885417858\n",
      "nodes =  13107200 , value of integral = 0.6666641276042276\n"
     ]
    },
    {
     "ename": "KeyboardInterrupt",
     "evalue": "",
     "output_type": "error",
     "traceback": [
      "\u001b[1;31m---------------------------------------------------------------------------\u001b[0m",
      "\u001b[1;31mKeyboardInterrupt\u001b[0m                         Traceback (most recent call last)",
      "\u001b[1;32m<ipython-input-95-902c7f5f40d5>\u001b[0m in \u001b[0;36m<module>\u001b[1;34m\u001b[0m\n\u001b[0;32m     59\u001b[0m     \u001b[1;32mreturn\u001b[0m \u001b[0mn\u001b[0m\u001b[1;33m,\u001b[0m \u001b[0mI2\u001b[0m\u001b[1;33m/\u001b[0m\u001b[1;36m2\u001b[0m\u001b[1;33m\u001b[0m\u001b[1;33m\u001b[0m\u001b[0m\n\u001b[0;32m     60\u001b[0m \u001b[1;33m\u001b[0m\u001b[0m\n\u001b[1;32m---> 61\u001b[1;33m \u001b[0mmidpoint_rule\u001b[0m\u001b[1;33m(\u001b[0m\u001b[0mf\u001b[0m\u001b[1;33m,\u001b[0m \u001b[1;33m-\u001b[0m\u001b[1;36m1\u001b[0m\u001b[1;33m,\u001b[0m \u001b[1;36m1\u001b[0m\u001b[1;33m,\u001b[0m \u001b[1;36m100\u001b[0m\u001b[1;33m,\u001b[0m \u001b[0meps\u001b[0m\u001b[1;33m=\u001b[0m\u001b[1;36m10\u001b[0m\u001b[1;33m**\u001b[0m\u001b[1;33m(\u001b[0m\u001b[1;33m-\u001b[0m\u001b[1;36m10\u001b[0m\u001b[1;33m)\u001b[0m\u001b[1;33m)\u001b[0m\u001b[1;33m\u001b[0m\u001b[1;33m\u001b[0m\u001b[0m\n\u001b[0m\u001b[0;32m     62\u001b[0m \u001b[1;33m\u001b[0m\u001b[0m\n\u001b[0;32m     63\u001b[0m \u001b[0mfigure\u001b[0m \u001b[1;33m=\u001b[0m \u001b[0mpylab\u001b[0m\u001b[1;33m.\u001b[0m\u001b[0mfigure\u001b[0m\u001b[1;33m(\u001b[0m\u001b[1;33m)\u001b[0m\u001b[1;33m\u001b[0m\u001b[1;33m\u001b[0m\u001b[0m\n",
      "\u001b[1;32m<ipython-input-95-902c7f5f40d5>\u001b[0m in \u001b[0;36mmidpoint_rule\u001b[1;34m(func, a, b, n0, eps)\u001b[0m\n\u001b[0;32m     48\u001b[0m         \u001b[0mn\u001b[0m \u001b[1;33m=\u001b[0m \u001b[0mn\u001b[0m\u001b[1;33m*\u001b[0m\u001b[1;36m2\u001b[0m\u001b[1;33m\u001b[0m\u001b[1;33m\u001b[0m\u001b[0m\n\u001b[0;32m     49\u001b[0m         \u001b[1;32mfor\u001b[0m \u001b[0mi\u001b[0m \u001b[1;32min\u001b[0m \u001b[0mrange\u001b[0m\u001b[1;33m(\u001b[0m\u001b[0mn\u001b[0m\u001b[1;33m)\u001b[0m\u001b[1;33m:\u001b[0m\u001b[1;33m\u001b[0m\u001b[1;33m\u001b[0m\u001b[0m\n\u001b[1;32m---> 50\u001b[1;33m             \u001b[0mS\u001b[0m \u001b[1;33m+=\u001b[0m \u001b[0mf\u001b[0m\u001b[1;33m(\u001b[0m\u001b[0ma\u001b[0m \u001b[1;33m+\u001b[0m \u001b[1;33m(\u001b[0m\u001b[0mb\u001b[0m\u001b[1;33m-\u001b[0m\u001b[0ma\u001b[0m\u001b[1;33m)\u001b[0m\u001b[1;33m/\u001b[0m\u001b[0mn\u001b[0m \u001b[1;33m*\u001b[0m \u001b[1;33m(\u001b[0m\u001b[1;36m2\u001b[0m\u001b[1;33m*\u001b[0m\u001b[0mi\u001b[0m\u001b[1;33m+\u001b[0m\u001b[1;36m1\u001b[0m\u001b[1;33m)\u001b[0m\u001b[1;33m/\u001b[0m\u001b[1;36m2\u001b[0m\u001b[1;33m)\u001b[0m\u001b[1;33m\u001b[0m\u001b[1;33m\u001b[0m\u001b[0m\n\u001b[0m\u001b[0;32m     51\u001b[0m         \u001b[0mI1\u001b[0m \u001b[1;33m=\u001b[0m \u001b[0mS\u001b[0m\u001b[1;33m*\u001b[0m\u001b[1;33m(\u001b[0m\u001b[0mb\u001b[0m\u001b[1;33m-\u001b[0m\u001b[0ma\u001b[0m\u001b[1;33m)\u001b[0m\u001b[1;33m/\u001b[0m\u001b[0mn\u001b[0m\u001b[1;33m\u001b[0m\u001b[1;33m\u001b[0m\u001b[0m\n\u001b[0;32m     52\u001b[0m \u001b[1;33m\u001b[0m\u001b[0m\n",
      "\u001b[1;32m<ipython-input-88-56ceeaa2e682>\u001b[0m in \u001b[0;36mf\u001b[1;34m(x)\u001b[0m\n\u001b[0;32m      1\u001b[0m \u001b[1;32mfrom\u001b[0m \u001b[0mscipy\u001b[0m\u001b[1;33m.\u001b[0m\u001b[0mspecial\u001b[0m \u001b[1;32mimport\u001b[0m \u001b[0mroots_legendre\u001b[0m\u001b[1;33m\u001b[0m\u001b[1;33m\u001b[0m\u001b[0m\n\u001b[0;32m      2\u001b[0m \u001b[1;33m\u001b[0m\u001b[0m\n\u001b[1;32m----> 3\u001b[1;33m \u001b[1;32mdef\u001b[0m \u001b[0mf\u001b[0m\u001b[1;33m(\u001b[0m\u001b[0mx\u001b[0m\u001b[1;33m)\u001b[0m\u001b[1;33m:\u001b[0m\u001b[1;33m\u001b[0m\u001b[1;33m\u001b[0m\u001b[0m\n\u001b[0m\u001b[0;32m      4\u001b[0m     \u001b[1;32mreturn\u001b[0m \u001b[1;36m7\u001b[0m\u001b[1;33m*\u001b[0m\u001b[0mx\u001b[0m\u001b[1;33m**\u001b[0m\u001b[1;36m3\u001b[0m\u001b[1;33m-\u001b[0m\u001b[1;36m8\u001b[0m\u001b[1;33m*\u001b[0m\u001b[0mx\u001b[0m\u001b[1;33m**\u001b[0m\u001b[1;36m2\u001b[0m\u001b[1;33m-\u001b[0m\u001b[1;36m3\u001b[0m\u001b[1;33m*\u001b[0m\u001b[0mx\u001b[0m\u001b[1;33m+\u001b[0m\u001b[1;36m3\u001b[0m\u001b[1;33m\u001b[0m\u001b[1;33m\u001b[0m\u001b[0m\n\u001b[0;32m      5\u001b[0m \u001b[1;33m\u001b[0m\u001b[0m\n",
      "\u001b[1;31mKeyboardInterrupt\u001b[0m: "
     ]
    }
   ],
   "source": [
    "import pylab\n",
    "\n",
    "def midpoint_rule(func, a, b, n0, eps):\n",
    "    \"\"\" Calculate the integral of f from a to b using the midpoint rule.\n",
    "    \n",
    "    Parameters\n",
    "    ----------\n",
    "    func : callable\n",
    "        The function to integrate.\n",
    "    a : float\n",
    "        The lower limit of integration.\n",
    "    b : float\n",
    "        The upper limit of integration.\n",
    "    n0: int\n",
    "        Initial number of points in grid.\n",
    "    eps : float\n",
    "        The target accuracy of the estimate.\n",
    "        \n",
    "    Variables\n",
    "    ----------\n",
    "    S: float\n",
    "        Sum of function values in all points of grid.\n",
    "    I1: float\n",
    "        First calculation of integral.\n",
    "    I2: float\n",
    "        Further calculation of integral.\n",
    "    epsilon:\n",
    "        Difference of integrals I2 and I1.\n",
    "        \n",
    "    Returns\n",
    "    -------\n",
    "    n : int\n",
    "        Number of points in grid.\n",
    "    I2 : float\n",
    "        The estimate of $\\int_a^b f(x) dx$.\n",
    "    \"\"\"\n",
    "    S = 0\n",
    "    I1 = 0\n",
    "    I2 = 0\n",
    "    epsilon = 1\n",
    "    \n",
    "    n = n0\n",
    "    for i in range(n):\n",
    "        S += f(a + (b-a)/n * (2*i+1)/2)\n",
    "    I2 = S*(b-a)/n\n",
    "    \n",
    "    while abs(epsilon) > eps:\n",
    "        n = n*2\n",
    "        for i in range(n):\n",
    "            S += f(a + (b-a)/n * (2*i+1)/2)\n",
    "        I1 = S*(b-a)/n\n",
    "        \n",
    "        epsilon = I2/I1/2-1\n",
    "        \n",
    "        I2 = I1\n",
    "        \n",
    "        print('nodes = ', n, ',', 'value of integral =', I2/2)\n",
    "    \n",
    "    return n, I2/2\n",
    "\n",
    "midpoint_rule(f, -1, 1, 100, eps=10**(-10))\n",
    "\n",
    "figure = pylab.figure()\n",
    "axes = figure.add_subplot (1, 1, 1)\n",
    "pylab.plot(eps, a)\n",
    "axes.set_xscale('log')\n",
    "axes.set_yscale('log')\n",
    "pylab.show()\n",
    "\n",
    "#Остановил код, т.к. у меня перегревается компьютер не доходя до нужной точности"
   ]
  },
  {
   "cell_type": "markdown",
   "metadata": {},
   "source": [
    "3. Calculate the integral ([1](#mjx-eqn-eq1)) using the roots of the Legendre polynomial from 1 to 6 degrees as nodes (to get roots and weigths use scipy.special.roots_legendre)"
   ]
  },
  {
   "cell_type": "code",
   "execution_count": 96,
   "metadata": {},
   "outputs": [
    {
     "name": "stdout",
     "output_type": "stream",
     "text": [
      "n =  1 , numerical = 6.0 , exact =  0.6666666666666666\n",
      "n =  2 , numerical = 0.6666666666666674 , exact =  0.6666666666666666\n",
      "n =  3 , numerical = 0.6666666666666639 , exact =  0.6666666666666666\n",
      "n =  4 , numerical = 0.6666666666666667 , exact =  0.6666666666666666\n",
      "n =  5 , numerical = 0.6666666666666685 , exact =  0.6666666666666666\n",
      "n =  6 , numerical = 0.6666666666666695 , exact =  0.6666666666666666\n"
     ]
    }
   ],
   "source": [
    "from scipy.special import roots_legendre\n",
    "\n",
    "def f(x):\n",
    "    return 7*x**3-8*x**2-3*x+3\n",
    "\n",
    "def integral1(n): \n",
    "    roots, mu = roots_legendre(n, mu=False)\n",
    "    integral = 0\n",
    "    for i in range(n): integral+=f(roots[i])*mu[i] \n",
    "    return integral\n",
    "\n",
    "for i in range(6): print(\"n = \", i+1, \",\", \"numerical =\", integral1(i+1), ',', \"exact = \", exact)"
   ]
  },
  {
   "cell_type": "markdown",
   "metadata": {},
   "source": [
    "Compare the number of nodes needed to obtain the same accuracy in both numerical methods."
   ]
  },
  {
   "cell_type": "markdown",
   "metadata": {},
   "source": [
    "We obtained logarithmic scale for dependence of epsilon by number of steps: \n",
    "$$\n",
    "ln(n) = -\\lambda ln(\\epsilon)\n",
    "$$\n",
    "so from there we can get\n",
    "$$\n",
    "n = \\frac{1}{\\epsilon^{\\lambda}}.\n",
    "$$\n",
    "This is giantic number of steps, compared to 2 steps in the Gaussian quadrature method that gives an exact value."
   ]
  },
  {
   "cell_type": "markdown",
   "metadata": {},
   "source": [
    "### Task 1.2\n",
    "(20% of the grade)\n",
    "\n",
    "Calculate the value of the same integral, but on the interval from 0 to 10.\n",
    "$$\n",
    "\\int_{0}^{10} (7x^3 - 8 x^2 - 3 x + 3) dx \n",
    "$$\n",
    "\n",
    "Please note that you can no longer directly use Legendre polynomials, because they are defined for the interval (-1,1). But you can always make an *affine transformation* (a transformation that does not change the area) in order to go to the desired coordinate system."
   ]
  },
  {
   "cell_type": "markdown",
   "metadata": {},
   "source": [
    "### Affine transformation\n",
    "$$u = \\alpha x + \\beta \\\\\n",
    "v = \\gamma y + \\delta$$\n",
    "\n",
    "$$\\alpha = \\frac{2}{b-a}, \\qquad \\beta = 1 - \\alpha b, \\qquad \\gamma = \\frac{1}{\\alpha}$$\n",
    "\n",
    "$$\\int_a^b f(x) dx = \\int_{-1}^1 \\frac{1}{\\alpha} f(x(u)) du = \n",
    "\\int_{-1}^1 \\frac{1}{\\alpha} f\\left( \\frac{u-\\beta}{\\alpha} \\right) du$$"
   ]
  },
  {
   "cell_type": "code",
   "execution_count": 97,
   "metadata": {},
   "outputs": [
    {
     "name": "stdout",
     "output_type": "stream",
     "text": [
      "n =  1 , numerical = 6630.0 , exact =  14713.333333333334\n",
      "n =  2 , numerical = 14713.333333333328 , exact =  14713.333333333334\n",
      "n =  3 , numerical = 14713.333333333328 , exact =  14713.333333333334\n",
      "n =  4 , numerical = 14713.333333333325 , exact =  14713.333333333334\n",
      "n =  5 , numerical = 14713.333333333325 , exact =  14713.333333333334\n",
      "n =  6 , numerical = 14713.333333333327 , exact =  14713.333333333334\n"
     ]
    }
   ],
   "source": [
    "exact = 7/4*10**(4)-8/3*10**(3)-3/2*10**(2)+30\n",
    "\n",
    "alpha = 2/(10-0)\n",
    "beta = 1-alpha*10\n",
    "\n",
    "def f(x):\n",
    "    x = (x-beta)/alpha \n",
    "    return (7*x**3-8*x**2-3*x+3)/alpha\n",
    "\n",
    "def integral2(n): \n",
    "    roots, mu = roots_legendre(n, mu=False)\n",
    "    integral = 0\n",
    "    for i in range(n): integral+=f(roots[i])*mu[i] \n",
    "    return integral\n",
    "\n",
    "for i in range(6): print(\"n = \", i+1, \",\", \"numerical =\", integral1(i+1), ',', \"exact = \", exact)"
   ]
  },
  {
   "cell_type": "markdown",
   "metadata": {},
   "source": [
    "Compare the result with the exact value of the integral: coincide"
   ]
  },
  {
   "cell_type": "markdown",
   "metadata": {},
   "source": [
    "### Task 1.3\n",
    "(20% of the grade)\n",
    "\n",
    "Calculate the value of the following integral:\n",
    "$$\n",
    "\\int_{0}^{2\\pi} \\frac{cos(x) dx }{\\sqrt{4\\pi^2 - x^2}}\n",
    "$$\n",
    "by using the corresponding basis of orthogonal polynomials. \n",
    "Find the degree of the polynomial (number of nodes) at which the accuracy of the integral starts to exceed the double floating point accuracy.\n",
    "\n",
    "Firstly, transform the integral\n",
    "$$\n",
    "\\int_{0}^{1} \\frac{cos(2\\pi y) dx }{\\sqrt{1 - x^2}}\n",
    "$$\n",
    "For norm in this integral we use Chebyshev polynomials of first kind"
   ]
  },
  {
   "cell_type": "code",
   "execution_count": 148,
   "metadata": {},
   "outputs": [
    {
     "name": "stdout",
     "output_type": "stream",
     "text": [
      "num of nodes =  1 , numerical = -1.5707963267948966 , eps =  2.5222274531424533\n",
      "num of nodes =  2 , numerical = 0.951431126347557 , eps =  0.5192273567753769\n",
      "num of nodes =  3 , numerical = 0.4322037695721801 , eps =  0.04788565709628234\n",
      "num of nodes =  4 , numerical = 0.48008942666846244 , eps =  0.002250061786260693\n",
      "num of nodes =  5 , numerical = 0.47783936488220174 , eps =  6.435273140464881e-05\n",
      "num of nodes =  6 , numerical = 0.4779037176136064 , eps =  1.239520457607668e-06\n",
      "num of nodes =  7 , numerical = 0.4779024780931488 , eps =  1.7184576706075205e-08\n",
      "num of nodes =  8 , numerical = 0.4779024952777255 , eps =  1.7976281574405562e-10\n",
      "num of nodes =  9 , numerical = 0.4779024950979627 , eps =  1.469879773452476e-12\n",
      "num of nodes =  10 , numerical = 0.47790249509943256 , eps =  9.603429163007604e-15\n",
      "num of nodes =  11 , numerical = 0.47790249509942295 , eps =  0.0\n"
     ]
    }
   ],
   "source": [
    "from scipy.special import roots_sh_chebyt\n",
    "import math\n",
    "\n",
    "def f(x):\n",
    "    return math.cos(2*math.pi*x)\n",
    "\n",
    "def integral3(n): \n",
    "    roots, mu = roots_sh_chebyt(n, mu=False)\n",
    "    integral = 0\n",
    "    for i in range(n): integral+=f(roots[i])*mu[i]\n",
    "    return integral/2\n",
    "\n",
    "i = 1\n",
    "eps = 1\n",
    "while eps > 1e-15: \n",
    "    integral = integral3(i)\n",
    "    eps = abs(integral3(i)-integral3(i+1))\n",
    "    print(\"num of nodes = \", i, \",\", \"numerical =\", integral3(i), ',', \"eps = \", eps)\n",
    "    i+=1"
   ]
  },
  {
   "cell_type": "markdown",
   "metadata": {},
   "source": [
    "## Part 2. Fredholm equation\n",
    "\n",
    "There are two types of Fredholm equations. \n",
    "\n",
    "1. Fredholm equation of the first kind:\n",
    "$$\n",
    "\\int_a^b \\! K(x, t)\\, \\color{blue}{f(t)} \\,dt = g(x)\n",
    "$$\n",
    "\n",
    "2. Fredholm equation of the second kind:\n",
    "$$\n",
    "\\lambda \\int_a^b\\! K(x, t)\\, \\color{blue}{f(t)} \\, dt + g(x) = \\color{blue}{f(x)}\n",
    "$$\n",
    "\n",
    "Here higtlighted function $f(x)$ is unknown, kernel function $K(x, t)$ and given function $g(x)$, $\\lambda$ is a real number. Numerically, Fredholm equations of the first kind are very ill-conditioned. We will consider equations of the second kind only."
   ]
  },
  {
   "cell_type": "markdown",
   "metadata": {},
   "source": [
    "The basic idea is to approximate the integral by some quadrature formula\n",
    "\n",
    "$$\n",
    "\\int_a^b \\! \\xi(t)\\, dt \\approx \\sum_j^N w_j\\, \\xi(t_j)\n",
    "$$\n",
    "\n",
    "with appropriate weights $w_j$ and nodes $t_j$ and $j=1, \\dots, N$. The accuracy of the approximation is controlled by $N$."
   ]
  },
  {
   "cell_type": "markdown",
   "metadata": {},
   "source": [
    "This way, the FE is approximated by \n",
    "\n",
    "$$\n",
    "\\lambda \\sum_j w_j\\, K(x, t_j)\\, \\color{blue}{f(t_j)} + g(x) = \\color{blue}{f(x)}\n",
    "$$\n",
    "\n",
    "Note that here $x$ is a continuous variable, and we only discretized $t$.\n"
   ]
  },
  {
   "cell_type": "markdown",
   "metadata": {},
   "source": [
    "Evaluating this equation on the grid $x = t_k$, we obtain\n",
    "\n",
    "$$\n",
    "\\lambda \\sum_j w_j \\, K_{k, j}\\, \\color{blue}{f_j} + g_k = \\color{blue}{f_k}\n",
    "$$\n",
    "\n",
    "where $f_j \\equiv f(t_j)$, $g_j \\equiv g(t_j)$ and $K_{k, j} \\equiv K(t_k, t_j)$. This is nothing but a system of linear algebraic equations for the vector of $\\color{blue}{f_j}$.\n",
    "\n",
    "Its solution gives the values of the unknown function $f(x)$ at the discrete values $x=t_j$ for $j=1, \\dots, N$."
   ]
  },
  {
   "cell_type": "markdown",
   "metadata": {},
   "source": [
    "### Task 2.1\n",
    "(20% of the grade)\n",
    "\n",
    "Solve an example Fredholm equation of the second kind\n",
    "\n",
    "$$\n",
    "f(x) = \\sin(\\pi x)  + \\frac{1}{2} \\int_0^1\\! f(t) \\, dt\n",
    "$$\n",
    "\n",
    "Here $a, b = 0, 1$, $\\lambda = \\dfrac{1}{2}$, the kernel is $K(x, t) = 1$ and the right-hand side $g(x) = \\sin(\\pi x)$.\n",
    "\n",
    "In fact, the exact solution is (В. А. Попов, Сборник задач по интегральным уравнениям, 2006, стр. 5)\n",
    "\n",
    "$$\n",
    "f(x) = \\sin(\\pi x) + \\frac{2}{\\pi}\n",
    "$$"
   ]
  },
  {
   "cell_type": "markdown",
   "metadata": {},
   "source": [
    "For the integral, we can use a Gaussian quadrature with the weight function $w(x) = 1$ on $(0, 1)$. Looking at http://dlmf.nist.gov/18.3, and find the corresponding function in *scipy.special* (pay attention to the integration interval).\n",
    "\n",
    "Compare the obtained function values with the true solution for different values of $N$. What value of $N$ can you stop at?"
   ]
  },
  {
   "cell_type": "code",
   "execution_count": 2,
   "metadata": {},
   "outputs": [
    {
     "name": "stdout",
     "output_type": "stream",
     "text": [
      "best nodes number = 9\n",
      "\n",
      "<=EXACT AND NUMERICAL SOLUTIONS=>\n"
     ]
    },
    {
     "data": {
      "image/png": "[encoded data removed]",
      "text/plain": [
       "<Figure size 432x288 with 1 Axes>"
      ]
     },
     "metadata": {
      "needs_background": "light"
     },
     "output_type": "display_data"
    }
   ],
   "source": [
    "from scipy.special import roots_sh_legendre\n",
    "import numpy as np\n",
    "import matplotlib.pyplot as plt\n",
    "import math\n",
    "\n",
    "K = 1\n",
    "def g(x):\n",
    "    return math.sin(math.pi*x)\n",
    "\n",
    "def Fredholm_slove(K, g, n, lam=1/2):\n",
    "    A = np.zeros((n, n))\n",
    "    b = np.zeros((n))\n",
    "    roots, mu = roots_sh_legendre(n, mu=False)\n",
    "    k = lam*np.ones((n,n))\n",
    "    A = mu * k - np.eye(n)\n",
    "    b = - np.sin(np.pi * roots)\n",
    "    return roots, np.linalg.solve(A, b)\n",
    "\n",
    "def f2(x):\n",
    "    n = (x.shape[0])\n",
    "    y = np.zeros(n)\n",
    "    for i in range(n): y[i] = math.sin(math.pi*x[i]) + 2/math.pi\n",
    "    return y\n",
    "\n",
    "def find_best_numofnodes():\n",
    "    eps = 1\n",
    "    eps1 = 0\n",
    "    n = 2\n",
    "    roots, numerical = Fredholm_slove(K, g, n, lam=1/2)\n",
    "    exact = f2(roots)\n",
    "    while eps1 < eps:\n",
    "        eps = np.linalg.norm(exact - numerical)\n",
    "        roots, numerical = Fredholm_slove(K, g, n+1, lam=1/2)\n",
    "        exact = f2(roots)\n",
    "        eps1 = np.linalg.norm(exact - numerical)\n",
    "        #print(f\"number of nodes = {n}, norm between numerical and exact solution = {eps}\")\n",
    "        n+=1\n",
    "        \n",
    "    return (n-1), roots, numerical\n",
    "\n",
    "def newplot(x, y, n):\n",
    "    plt.figure()\n",
    "    plt.plot(x, f2(x), label='Exact solution')\n",
    "    plt.plot(x, y, 'o--', label='Numerical solution')\n",
    "    plt.legend()\n",
    "    plt.grid(True)\n",
    "\n",
    "#Находим наилучшее число узлов в терминах нормы разницы численного и точного решений\n",
    "n, roots, numerical = find_best_numofnodes()\n",
    "print(f\"best nodes number = {n}\")\n",
    "print()\n",
    "print(\"<=EXACT AND NUMERICAL SOLUTIONS=>\")\n",
    "newplot(roots, numerical, n)"
   ]
  },
  {
   "cell_type": "markdown",
   "metadata": {},
   "source": [
    "### Task 2.2\n",
    "(20% of the grade)\n",
    "\n",
    "An obvious issue with the privious result for $f(x)$ that it returns the solution on a fixed set of points. We do not control precise positions of these points.\n",
    "\n",
    "1. First, let's try to interpolate the values obtained in the previous task to a uniform grid of length 50. You may use any interpolation method. Compare the interpolation values with exact solution values."
   ]
  },
  {
   "cell_type": "code",
   "execution_count": 3,
   "metadata": {},
   "outputs": [
    {
     "data": {
      "text/plain": [
       "[<matplotlib.lines.Line2D at 0x1d7eeaf6088>]"
      ]
     },
     "execution_count": 3,
     "metadata": {},
     "output_type": "execute_result"
    },
    {
     "data": {
      "image/png": "[encoded data removed]",
      "text/plain": [
       "<Figure size 432x288 with 1 Axes>"
      ]
     },
     "metadata": {
      "needs_background": "light"
     },
     "output_type": "display_data"
    },
    {
     "data": {
      "image/png": "[encoded data removed]",
      "text/plain": [
       "<Figure size 432x288 with 1 Axes>"
      ]
     },
     "metadata": {
      "needs_background": "light"
     },
     "output_type": "display_data"
    }
   ],
   "source": [
    "from scipy.interpolate import interp1d\n",
    "\n",
    "x = np.linspace(roots[0], roots[-1], 50)\n",
    "f_interp = interp1d(roots, numerical, kind='cubic')\n",
    "\n",
    "plt.figure()\n",
    "plt.plot(x, f2(x), label='Exact solution')\n",
    "plt.plot(x, f_interp(x), 'o', label='Interpolated solution')\n",
    "plt.legend()\n",
    "plt.grid(True)\n",
    "\n",
    "plt.figure()\n",
    "plt.plot(x, f2(x)-f_interp(x), label='Difference between exact and interpolated solution')"
   ]
  },
  {
   "cell_type": "markdown",
   "metadata": {},
   "source": [
    "Here we can see that numerical solution fits exact best on the roots of polynomial and deviates when argument goes away from these points"
   ]
  },
  {
   "cell_type": "markdown",
   "metadata": {},
   "source": [
    "2. Now use the following formula to calculate the function at points of the same uniform grid.\n",
    "$$\n",
    "f(x) = g(x) + \\lambda \\sum_j^N w_j\\, K(x, t_j)\\, f(t_j)\n",
    "$$\n",
    "Again, compare the interpolation values with the exact solution values, and also with the direct interpolation method."
   ]
  },
  {
   "cell_type": "code",
   "execution_count": 11,
   "metadata": {},
   "outputs": [
    {
     "data": {
      "text/plain": [
       "[<matplotlib.lines.Line2D at 0x1d7ee7e1cc8>]"
      ]
     },
     "execution_count": 11,
     "metadata": {},
     "output_type": "execute_result"
    },
    {
     "data": {
      "image/png": "[encoded data removed]",
      "text/plain": [
       "<Figure size 432x288 with 1 Axes>"
      ]
     },
     "metadata": {
      "needs_background": "light"
     },
     "output_type": "display_data"
    },
    {
     "data": {
      "image/png": "[encoded data removed]",
      "text/plain": [
       "<Figure size 432x288 with 1 Axes>"
      ]
     },
     "metadata": {
      "needs_background": "light"
     },
     "output_type": "display_data"
    }
   ],
   "source": [
    "def f0(x, lam=1/2):\n",
    "    f1 = 0\n",
    "    \n",
    "    n = roots.shape[0]\n",
    "    for i in range(n): f1+=K*(mu*numerical)[i]\n",
    "    f1*=lam*f1 \n",
    "    \n",
    "    N = x.shape[0]\n",
    "    f0 = np.zeros(N)\n",
    "    for i in range(N): \n",
    "        f0[i] = g(x[i])\n",
    "    f0+=np.ones(N)*f1\n",
    "    \n",
    "    return f0\n",
    "\n",
    "n = 9\n",
    "roots, numerical = Fredholm_slove(K, g, n, lam=1/2)\n",
    "mu = roots_sh_legendre(n, mu=False)[1]\n",
    "plt.plot(x, f2(x), label='Exact solution')\n",
    "plt.plot(x, f0(x), 'o', label='Fredholm equation formula')\n",
    "plt.legend()\n",
    "plt.grid(True)\n",
    "\n",
    "plt.figure()\n",
    "plt.plot(x, f2(x)-f0(x), label='Difference between exact and interpolated solution')"
   ]
  },
  {
   "cell_type": "code",
   "execution_count": null,
   "metadata": {},
   "outputs": [],
   "source": [
    "Долго пытался, но так и не смог понять, почему точная формула не сработала"
   ]
  }
 ],
 "metadata": {
  "kernelspec": {
   "display_name": "Python 3",
   "language": "python",
   "name": "python3"
  },
  "language_info": {
   "codemirror_mode": {
    "name": "ipython",
    "version": 3
   },
   "file_extension": ".py",
   "mimetype": "text/x-python",
   "name": "python",
   "nbconvert_exporter": "python",
   "pygments_lexer": "ipython3",
   "version": "3.7.6"
  }
 },
 "nbformat": 4,
 "nbformat_minor": 4
}
