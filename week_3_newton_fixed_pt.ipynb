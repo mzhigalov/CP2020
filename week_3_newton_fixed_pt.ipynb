{
 "cells": [
  {
   "cell_type": "markdown",
   "metadata": {},
   "source": [
    "# Part I. Root-finding. Newton's iteration."
   ]
  },
  {
   "cell_type": "markdown",
   "metadata": {},
   "source": [
    "Write a function which performs Newton's iteration for a given function $f(x)$ with known derivative $f'(x)$. Your function should find the root of $f(x)$ with a predefined absolute accuracy $\\epsilon$. "
   ]
  },
  {
   "cell_type": "code",
   "execution_count": 181,
   "metadata": {},
   "outputs": [],
   "source": [
    "import math\n",
    "import numpy as np\n",
    "import random\n",
    "\n",
    "def newton_iteration(f, fder, x0, eps=1e-5, maxiter=1000):\n",
    "    xn = x0\n",
    "    xn1 = 0    \n",
    "    niter = 0\n",
    "    for i in range(maxiter):\n",
    "        xn1 = xn - f(xn)/fder(xn) \n",
    "        if abs(xn1-xn) < eps:\n",
    "            niter = i\n",
    "            break\n",
    "        xn = xn1\n",
    "    return xn, niter"
   ]
  },
  {
   "cell_type": "markdown",
   "metadata": {},
   "source": [
    "### Test I.1 \n",
    "\n",
    "Test your implementation on a simple example, $f(x) = x^2 - 1$ or similar. (20% of the total grade)"
   ]
  },
  {
   "cell_type": "code",
   "execution_count": 182,
   "metadata": {},
   "outputs": [
    {
     "name": "stdout",
     "output_type": "stream",
     "text": [
      "-3.14\n",
      "(-1.00000000134977, 5)\n",
      "\n",
      "-1\n",
      "(-1, 0)\n",
      "\n",
      "-0.8\n",
      "(-1.0000000464611474, 3)\n",
      "\n",
      "-0.01\n",
      "(-1.0000000025490745, 10)\n",
      "\n",
      "1e-08\n",
      "(1.0000000009432504, 30)\n",
      "\n",
      "0.8\n",
      "(1.0000000464611474, 3)\n",
      "\n",
      "5\n",
      "(1.00000463565079, 5)\n",
      "\n"
     ]
    }
   ],
   "source": [
    "def f(x):\n",
    "    return (x**2 - 1)\n",
    "\n",
    "def fder(x):\n",
    "    return 2*x \n",
    "\n",
    "test = [-3.14, -1, -0.8, -0.01, 1e-8, 0.8, 5]\n",
    "for x0 in test:\n",
    "    print(x0)\n",
    "    print(newton_iteration(f, fder, x0))\n",
    "    print('')"
   ]
  },
  {
   "cell_type": "markdown",
   "metadata": {},
   "source": [
    "### Test I.2\n",
    "\n",
    "Now consider a function which has a multiple root. Take $f(x) = (x^2 - 1)^2$ as an example. Implement a modified Newton's iteraion,\n",
    "\n",
    "$$\n",
    "x_{n+1} = x_{n} - m \\frac{f(x_n)}{f'(x_n)}\n",
    "$$\n",
    "\n",
    "and vary $m= 1, 2, 3, 4, 5$. Check the number of iterations required for convergence within a fixed $\\epsilon$. Are your observations consistent with the expectation that the convergence is quadratic is $m$ equals the multiplicity of the root, and is linear otherwise? (40% of the total grade)"
   ]
  },
  {
   "cell_type": "markdown",
   "metadata": {},
   "source": [
    "### Testing\n",
    "\n",
    "<== Below there are displayed roots and number of iterations for every value of parameter m, excluding cases, when number of iterations reaches limit. Tested for different initial values of x ==>"
   ]
  },
  {
   "cell_type": "code",
   "execution_count": 183,
   "metadata": {},
   "outputs": [
    {
     "name": "stdout",
     "output_type": "stream",
     "text": [
      "<=PRECISION = E-6=>\n",
      "-3.14\n",
      "([1, 2, 3], [-1.0000008735876045, -1.0, -0.999999822350913], [22, 5, 17])\n",
      "\n",
      "-0.8\n",
      "([1, 2, 3], [-0.9999993909143244, -1.000000000000001, -0.9999997732495869], [17, 3, 19])\n",
      "\n",
      "-1.01\n",
      "([1, 2, 3], [-1.0000006164547839, -1.0, -0.9999996978757676], [13, 2, 14])\n",
      "\n",
      "-0.01\n",
      "([1, 2, 3], [-1.0000005642584402, -1.0, -1.0000002221303745], [31, 10, 23])\n",
      "\n",
      "1e-06\n",
      "([1, 2, 3], [1.000000570959557, 1.0000000000000053, 0.9999998241814985], [63, 23, 26])\n",
      "\n",
      "0.8\n",
      "([1, 2, 3], [0.9999993909143244, 1.000000000000001, 0.9999997732495869], [17, 3, 19])\n",
      "\n",
      "4\n",
      "([1, 2, 3], [1.000000817636429, 1.0000000000000127, 0.9999997076590198], [23, 5, 19])\n",
      "\n"
     ]
    }
   ],
   "source": [
    "# Выдаёт согласованные массивы с\n",
    "# 1) Множителем m\n",
    "# 2) Корнем x при каждом m\n",
    "# 3) Числом итераций niter при каждом m.\n",
    "# Решение записывается, если число интераций меньше maxiter\n",
    "def newton_iteration_modified(f, fder, x0, eps=1e-6, maxiter=1000):\n",
    "    niter = []\n",
    "    x = []\n",
    "    m_arr = []\n",
    "    \n",
    "    xn = 0\n",
    "    xn1 = 0    \n",
    "    \n",
    "    for m in range(6):\n",
    "        xn = x0\n",
    "        for i in range(maxiter):\n",
    "            xn1 = xn - (m+1)*f(xn)/fder(xn) \n",
    "            if abs(xn1-xn) < eps:\n",
    "                niter.append(i)\n",
    "                x.append(xn1)\n",
    "                m_arr.append(m+1)\n",
    "                break\n",
    "            xn = xn1\n",
    "    return m_arr, x, niter\n",
    "\n",
    "def f1(x):\n",
    "    return (x**2 - 1)**2\n",
    "\n",
    "def fder1(x):\n",
    "    return 4*x*(x**2 - 1)\n",
    "\n",
    "test = [-3.14, -0.8, -1.01, -0.01, 1e-6, 0.8, 4]\n",
    "print('<=PRECISION = E-6=>')\n",
    "for x0 in test:\n",
    "    print(x0)\n",
    "    print(newton_iteration_modified(f1, fder1, x0))\n",
    "    print('')"
   ]
  },
  {
   "cell_type": "markdown",
   "metadata": {},
   "source": [
    "### Additional tests\n",
    "\n",
    "<== Also it is curious to see how number of iterations behaves dependently on a precision number e ==>"
   ]
  },
  {
   "cell_type": "code",
   "execution_count": 184,
   "metadata": {},
   "outputs": [
    {
     "name": "stdout",
     "output_type": "stream",
     "text": [
      "<=PRECISION = E-2=>\n",
      "-3.14\n",
      "([1, 2, 3], [-1.007105941147916, -1.00000000134977, -0.9970978194233702], [9, 4, 3])\n",
      "\n",
      "-0.8\n",
      "([1, 2, 3], [-0.9949852251268485, -1.0000000464611474, -1.0018610031268516], [4, 2, 6])\n",
      "\n",
      "-1.01\n",
      "([1, 2, 3, 6], [-1.0050247524752476, -1.0000495049504952, -1.0024811585705098, -0.9956942138694544], [0, 0, 1, 33])\n",
      "\n",
      "-0.01\n",
      "([1, 2, 3, 6], [-1.0091608925561466, -1.0000000025490745, -0.9981836076462713, -0.9958088972465683], [17, 9, 10, 755])\n",
      "\n",
      "1e-06\n",
      "([1, 2, 3, 5, 6], [1.0092686969397437, 1.000000103461242, 0.9971276395519092, 0.998403253392796, -0.9954385971225509], [49, 22, 12, 732, 26])\n",
      "\n",
      "0.8\n",
      "([1, 2, 3], [0.9949852251268485, 1.0000000464611474, 1.0018610031268516], [4, 2, 6])\n",
      "\n",
      "4\n",
      "([1, 2, 3, 5, 6], [1.006653809642148, 1.0000001591732348, 1.0024006209572132, 0.9944600117264063, 1.0061099015406916], [10, 4, 6, 210, 736])\n",
      "\n",
      "<=PRECISION = E-1=>\n",
      "-3.14\n",
      "([1, 2, 3, 5, 6], [-1.1037290872034022, -1.000051958450823, -0.9884900484765106, 1.0305743948549342, -0.9701978376904494], [5, 3, 1, 108, 80])\n",
      "\n",
      "-0.8\n",
      "([1, 2, 3, 5, 6], [-0.958347602739726, -1.0003048780487804, -1.0306598198240662, 0.941845677852612, -0.9676689909693224], [1, 1, 2, 31, 97])\n",
      "\n",
      "-1.01\n",
      "([1, 2, 3, 4, 5, 6], [-1.0050247524752476, -1.0000495049504952, -0.9950742574257426, -0.9900990099009901, -0.9851237623762377, -0.9801485148514851], [0, 0, 0, 0, 0, 0])\n",
      "\n",
      "-0.01\n",
      "([1, 2, 3, 5, 6], [-1.0691709598873662, -1.0000714038711747, -0.9716859469394726, -1.0317949309441086, -1.0275588895421923], [14, 8, 6, 56, 85])\n",
      "\n",
      "1e-06\n",
      "([1, 2, 3, 5, 6], [1.0699419105648154, 1.0004549908041331, 1.0057948002613668, 0.9672178686511242, -0.9954385971225509], [46, 21, 11, 267, 26])\n",
      "\n",
      "0.8\n",
      "([1, 2, 3, 5, 6], [0.958347602739726, 1.0003048780487804, 1.0306598198240662, -0.941845677852612, 0.9676689909693224], [1, 1, 2, 31, 97])\n",
      "\n",
      "4\n",
      "([1, 2, 3, 5, 6], [1.0976270746879582, 1.0005643811996305, 0.9811946482802655, 0.9944600117264063, -0.9893740059071613], [6, 3, 3, 210, 127])\n",
      "\n"
     ]
    }
   ],
   "source": [
    "print('<=PRECISION = E-2=>')\n",
    "for x0 in test:\n",
    "    print(x0)\n",
    "    print(newton_iteration_modified(f1, fder1, x0, eps=1e-2))\n",
    "    print('')\n",
    "\n",
    "print('<=PRECISION = E-1=>')\n",
    "for x0 in test:\n",
    "    print(x0)\n",
    "    print(newton_iteration_modified(f1, fder1, x0, eps=1e-1))\n",
    "    print('')"
   ]
  },
  {
   "cell_type": "markdown",
   "metadata": {},
   "source": [
    "# Part II. Fixed-point iteration"
   ]
  },
  {
   "cell_type": "markdown",
   "metadata": {},
   "source": [
    "Consider the following equation:\n",
    "\n",
    "$$\n",
    "\\sqrt{x} = \\cos{x}\n",
    "$$\n",
    "\n",
    "Plot the left-hand side and right-hand side of this equation, and localize the root graphically. Estimate the location of the root by visual inspection of the plot.\n",
    "\n",
    "Write a function which finds the solution using fixed-point iteration up to a predefined accuracy $\\epsilon$. Compare the result to an estimate from a visual inspection.\n",
    "\n",
    "Next, rewrite the fixed-point problem in the form\n",
    "\n",
    "$$\n",
    "x = x - \\alpha f(x)\n",
    "$$\n",
    "\n",
    "where $\\alpha$ is the free parameter. Check the dependence of the number of iterations required for a given $\\epsilon$ on $\\alpha$. Compare your results to an expectation that the optimal value of $\\alpha$ is given by \n",
    "\n",
    "$$\n",
    "\\alpha = \\frac{2}{m + M}\n",
    "$$\n",
    "\n",
    "where $0 < m < |f'(x)| < M$ over the localization interval. (40% of the total grade)"
   ]
  },
  {
   "cell_type": "code",
   "execution_count": 187,
   "metadata": {},
   "outputs": [
    {
     "name": "stdout",
     "output_type": "stream",
     "text": [
      "x0\n",
      "1.2898177442312495\n",
      "\n",
      "<=Test for differend alphas=>\n",
      "0.1 ([0.25, 0.5, 1, 1.5, 2, 3], [0.84162923, 0.67267275, 0.63225212, -1, -1, -1], [2, 2, 2, -1, -1, -1])\n",
      "0.01 ([0.25, 0.5, 1, 1.5, 2, 3], [0.66335781, 0.64634907, 0.64124737, -1, -1, -1], [8, 4, 4, -1, -1, -1])\n",
      "0.001 ([0.25, 0.5, 1, 1.5, 2, 3], [0.64339167, 0.64198602, 0.64181835, -1, -1, -1], [15, 7, 5, -1, -1, -1])\n",
      "0.0001 ([0.25, 0.5, 1, 1.5, 2, 3], [0.64190223, 0.64175539, 0.64171952, -1, -1, -1], [21, 9, 7, -1, -1, -1])\n",
      "1e-05 ([0.25, 0.5, 1, 1.5, 2, 3], [0.64173541, 0.64172056, 0.64171322, -1, -1, -1], [27, 11, 8, -1, -1, -1])\n",
      "1e-06 ([0.25, 0.5, 1, 1.5, 2, 3], [0.641716, 0.64171473, 0.64171431, -1, -1, -1], [34, 14, 10, -1, -1, -1])\n",
      "1e-07 ([0.25, 0.5, 1, 1.5, 2, 3], [0.64171455, 0.64171442, 0.64171438, -1, -1, -1], [40, 16, 11, -1, -1, -1])\n",
      "1e-08 ([0.25, 0.5, 1, 1.5, 2, 3], [0.64171439, 0.64171437, 0.64171437, -1, -1, -1], [46, 19, 13, -1, -1, -1])\n"
     ]
    }
   ],
   "source": [
    "# Просто функция округления для себя\n",
    "def round1(x):\n",
    "    return (x*1e9)//1e1/1e8\n",
    "\n",
    "def f2(x):\n",
    "    return (math.sqrt(x) - math.cos(x))\n",
    "\n",
    "def fder2(x):\n",
    "    return (1/2/math.sqrt(x) + math.sin(x)) \n",
    "\n",
    "def newton_iteration_fixedpoint(f, fder, x0, eps=1e-6, maxiter=100):\n",
    "    niter = []\n",
    "    x = []\n",
    "    \n",
    "    # Выберем разные alpha руками\n",
    "    alpha = [0.25, 0.5, 1, 1.5, 2, 3]\n",
    "    \n",
    "    xn = 0\n",
    "    xn1 = 0    \n",
    "    \n",
    "    for a in alpha:\n",
    "        xn = x0\n",
    "        for i in range(maxiter):\n",
    "            xn1 = xn - a*f(xn)\n",
    "            if abs(xn1-xn) < eps:\n",
    "                niter.append(i)\n",
    "                x.append(round1(xn1))\n",
    "                break\n",
    "            xn = xn1\n",
    "            if xn < 0:\n",
    "                niter.append(-1)\n",
    "                x.append(-1)\n",
    "                break\n",
    "    return alpha, x, niter\n",
    "\n",
    "a = 0.5\n",
    "b = 1.5\n",
    "x0 = random.uniform(a, b)\n",
    "print('x0')\n",
    "print(x0)\n",
    "print('')\n",
    "\n",
    "eps = []\n",
    "for i in range(8):\n",
    "    eps.append(10**((-1)*(1+i)))\n",
    "\n",
    "# Выводим массивы alpha, корней x и числа итераций n\n",
    "# -1, если x_n+1 выходит в зону отрицательных чисел\n",
    "print('<=Test for differend alphas=>')\n",
    "for e in eps:\n",
    "    print(e, newton_iteration_fixedpoint(f2, fder2, x0, e))"
   ]
  },
  {
   "cell_type": "markdown",
   "metadata": {},
   "source": [
    "<== It is evident that alhpa = 1 is the best value for any precision ==>"
   ]
  },
  {
   "cell_type": "code",
   "execution_count": 189,
   "metadata": {},
   "outputs": [
    {
     "name": "stdout",
     "output_type": "stream",
     "text": [
      "x0\n",
      "0.8581490388322452\n",
      "\n",
      "<=Test for best alpha=>\n",
      "0.001 (1.4227348852569839, 0.64198319, 6)\n",
      "0.0001 (1.4227348852569839, 0.64175497, 8)\n",
      "1e-05 (1.4227348852569839, 0.6417205, 10)\n"
     ]
    }
   ],
   "source": [
    "from scipy.optimize import fmin\n",
    "\n",
    "def newton_iteration_FPbest(f, fder, x0, eps=1e-6, maxiter=100):\n",
    "    niter = 0\n",
    "    x = 0\n",
    "    \n",
    "    # Можно заметить, что производная функции обащается в ноль где-то внутри\n",
    "    # нашего отрезка, поэтому минимум модуля f`(x) есть m = 0, а максимум M находится\n",
    "    # на концах отрезка:\n",
    "    s = [abs(fder(a)), abs(fder(b))]\n",
    "    alpha = 2/max(s)\n",
    "    \n",
    "    xn = x0\n",
    "    xn1 = 0    \n",
    "\n",
    "    for i in range(maxiter):\n",
    "        xn1 = xn - a*f(xn)\n",
    "        if abs(xn1-xn) < eps:\n",
    "            niter = i\n",
    "            x = round1(xn1)\n",
    "            break\n",
    "        xn = xn1\n",
    "        if xn < 0:\n",
    "            niter = -1\n",
    "            x = -1\n",
    "            break\n",
    "    return alpha, x, niter\n",
    "\n",
    "x0 = random.uniform(a, b)\n",
    "print('x0')\n",
    "print(x0)\n",
    "print('')\n",
    "\n",
    "eps = []\n",
    "for i in range(3):\n",
    "    eps.append(10**((-1)*(3+i)))\n",
    "\n",
    "\n",
    "print('<=Test for best alpha=>')\n",
    "for e in eps:\n",
    "    print(e, newton_iteration_FPbest(f2, fder2, x0, e))"
   ]
  },
  {
   "cell_type": "markdown",
   "metadata": {},
   "source": [
    "# Part III. Newton's fractal.\n",
    "\n",
    "(Not graded). \n",
    "\n",
    "Consider the equation\n",
    "\n",
    "$$\n",
    "x^3 = 1\n",
    "$$\n",
    "\n",
    "It has three solutions in the complex plane, $x_k = \\exp(i\\, 2\\pi k/ 3)$, $k = 0, 1, 2$.\n",
    "\n",
    "The Newton's iterations converge to one of these solutions, depending on the starting point in the complex plane (to converge to a complex-valued solution, the iteration needs a complex-valued starting point).\n",
    "\n",
    "Plot the \\emph{basins of attraction} of these roots on the complex plane of $x$ (i.e., on the plane $\\mathrm{Re}x$ -- $\\mathrm{Im}x$). To this end, make a series of calculations, varying the initial conditions on a grid of points. \n",
    "Color the grid in three colors, according to the root, to which iterations converged."
   ]
  },
  {
   "cell_type": "code",
   "execution_count": null,
   "metadata": {
    "collapsed": true
   },
   "outputs": [],
   "source": []
  }
 ],
 "metadata": {
  "kernelspec": {
   "display_name": "Python 3",
   "language": "python",
   "name": "python3"
  },
  "language_info": {
   "codemirror_mode": {
    "name": "ipython",
    "version": 3
   },
   "file_extension": ".py",
   "mimetype": "text/x-python",
   "name": "python",
   "nbconvert_exporter": "python",
   "pygments_lexer": "ipython3",
   "version": "3.7.3"
  }
 },
 "nbformat": 4,
 "nbformat_minor": 2
}
