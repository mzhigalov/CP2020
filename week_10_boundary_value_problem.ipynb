{
 "cells": [
  {
   "cell_type": "markdown",
   "metadata": {},
   "source": [
    "# Boundary value problem\n",
    "\n",
    "### In general case:\n",
    "\n",
    "$L[y]=y''+p(x)y'+q(x)y=f(x)$\n",
    "\n",
    "$l_a[y]=\\alpha_0y(a)+\\alpha_1y'(a)=A$\n",
    "\n",
    "$l_b[y]=\\beta_0y(b)+\\beta_1y'(b)=B$\n",
    "\n",
    "for $x\\in[a,b]$\n",
    "\n",
    "## 1. Consider the following boundary value problem:\n",
    "\n",
    "$\\frac{d^2y}{dx^2}-\\frac{dy}{dx}\\ln(x)-2y=1$ for $x \\in [0.5,1.5]$\n",
    "\n",
    "### with the boundary conditions:\n",
    "\n",
    "$y(0.5)+y'(0.5)=1$, $y(1.5)-y'(1.5)=0$\n",
    "\n",
    "1.1. Solve this problem using finite difference method of the second order. Use the uniform grid. Is this method stable for step size $h=0.125$? Find number of grid points required to achieve accuracy of the order of 1e-6.\n",
    "\n",
    "### *Don't forget to include the boundary conditions!*\n",
    "\n",
    "1.2. Use the first order one-sided numerical approximation for the first derivative and write a new scheme. Find number of grid points required to achieve accuracy of the order of 1e-6.\n",
    "\n",
    "1.3. Plot the solutions of both methods on the same figure. Compare results and discuss differences (if occurs)."
   ]
  },
  {
   "cell_type": "code",
   "execution_count": 251,
   "metadata": {},
   "outputs": [],
   "source": [
    "###It`s needed to make a comment."
   ]
  },
  {
   "cell_type": "markdown",
   "metadata": {},
   "source": [
    "### Note 1. Difference method of the second order\n",
    "$$\n",
    "y'_n = \\frac{y_{n+1} - y_{n-1}}{2\\tau}\n",
    "$$\n",
    "Approximation for secon derivative:\n",
    "$$\n",
    "y^{''}_n = \\frac{y_{n+1} - 2y_n + y_{n-1}}{\\tau^2}\n",
    "$$\n",
    "Differential equation:\n",
    "\n",
    "$y^{''}_n + p_n y'_n + q_n y_n = f_n$\n",
    "\n",
    "$\\frac{y_{n+1} - 2y_n + y_{n-1}}{\\tau^2} + p_n \\frac{y_{n+1} - y_{n-1}}{2 \\tau} + q_n y_n = f_n$\n",
    "\n",
    "#### Residual equation:\n",
    "\n",
    "$c_n y_{n+1} - b_n y_n + a_n y_{n-1} = f_n$\n",
    "\n",
    "$\\begin{cases} a_n = \\frac{1}{\\tau^2} - \\frac{1}{2\\tau} p_n \\\\  b_n = a_n + c_n - q_n \\\\ c_n = \\frac{1}{\\tau^2} + \\frac{1}{2\\tau} p_n \\end{cases}$\n",
    "\n",
    "#### Boundary conditions:\n",
    "\n",
    "$\\begin{cases} \\alpha_0y_0+\\alpha_1y'_0=A \\\\ \\beta_0y_n+\\beta_1y'_n=B \\end{cases}$\n",
    "\n",
    "We are compelled to use right-sided deravative at point $a$ and left-sided derivative at point $b$\n",
    "\n",
    "$\\begin{cases} \\alpha_0y_0+\\alpha_1\\frac{y_{1} - y_0}{\\tau}=A \\\\ \\beta_0y_N+\\beta_1\\frac{y_{N} - y_{N-1}}{\\tau}=B \\end{cases}$\n",
    "\n",
    "$\\begin{cases} a_0 = 0 \\\\  b_0 = \\frac{\\alpha_1}{\\tau} - \\alpha_0 \\\\ c_0 = \\frac{\\alpha_1}{\\tau} \\end{cases}$\n",
    "\n",
    "$\\begin{cases} a_N = -\\frac{\\beta_1}{\\tau} \\\\  b_N = -\\frac{\\beta_1}{\\tau} - \\beta_0 \\\\c_N = 0 \\end{cases}$"
   ]
  },
  {
   "cell_type": "markdown",
   "metadata": {},
   "source": [
    "### Note 2. One-sided approximation for the fisrt derivative.\n",
    "$$\n",
    "y'_n = \\frac{y_{n+1} - y_n}{\\tau}\n",
    "$$\n",
    "Differential equation:\n",
    "\n",
    "$y^{''}_n + p_n y'_n + q_n y_n = f_n$\n",
    "\n",
    "$\\frac{y_{n+1} - 2y_n + y_{n-1}}{\\tau^2} + p_n \\frac{y_{n+1} - y_n}{\\tau} + q_n y_n = f_n$\n",
    "\n",
    "#### Residual equation:\n",
    "\n",
    "$c_n y_{n+1} - b_n y_n + a_n y_{n-1} = d_n$\n",
    "\n",
    "$\\begin{cases} a_n = \\frac{1}{\\tau^2} \\\\  b_n = a_n + c_n - q_n \\\\ c_n = \\frac{1}{\\tau^2} + \\frac{1}{\\tau} p_n \\end{cases}$\n",
    "\n",
    "Boundary conditions are same."
   ]
  },
  {
   "cell_type": "code",
   "execution_count": 257,
   "metadata": {},
   "outputs": [],
   "source": [
    "###Use 1 function for both methods that call different methods of calculating of vectors a, b."
   ]
  },
  {
   "cell_type": "code",
   "execution_count": 264,
   "metadata": {},
   "outputs": [],
   "source": [
    "import numpy as np\n",
    "import matplotlib.pyplot as plt\n",
    "from scipy.linalg import solve\n",
    "\n",
    "#1.1.\n",
    "def SecondOrder_ab(N,tau,p,a0):\n",
    "    a = [1 - p(a0+(i+1)*tau)/2*tau for i in range(N-1)]\n",
    "    c = [1 + p(a0+(i+1)*tau)/2*tau for i in range(N-1)]\n",
    "    return np.asarray(a), np.asarray(c)\n",
    "#1.2.\n",
    "def FirstOrder_ab(N,tau,p,a0):\n",
    "    a = [1 for i in range(N-1)]\n",
    "    c = [1 + p(a0+(i+1)*tau)*tau for i in range(N-1)]\n",
    "    return np.asarray(a), np.asarray(c)\n",
    "\n",
    "def N_OrderScheme(order,a0,b0,A,B,alpha,beta,p,q,f,N):\n",
    "    # in:\n",
    "    # a,b - float, limits of x, N - int, number of grid points\n",
    "    # A,B - float, boundary values\n",
    "    # alpha, beta - array of float, coefficients for boundary conditions in general case\n",
    "    # p(x), g(x), f(x) - functions from general equation\n",
    "    \n",
    "    #you can construct matrix of the system and use scipy.linalg.solve method to solve it: y=solve(M,f)\n",
    "    \n",
    "    # out: \n",
    "    # y - array of float, solution of the BVP\n",
    "    \n",
    "    \"\"\"<=Construct matrix of system: M[y]=[d], [d] = [f(x)]=>\"\"\"\n",
    "    M = np.zeros((N+1, N+1))\n",
    "    d = np.zeros((N+1))\n",
    "    tau = (b0-a0)/N\n",
    "    \n",
    "    M = M.astype(np.float32)\n",
    "    d = d.astype(np.float32)\n",
    "    \n",
    "    \"\"\"1) Fill matrix M and vector f elements, corresponding\n",
    "    to boundary conditions\"\"\"\n",
    "    \n",
    "    M[0][0] = - (alpha[1]*tau - alpha[0]*tau**2)\n",
    "    M[0][1] = alpha[1]*tau\n",
    "    d[0] = A*tau**2\n",
    "    \n",
    "    M[N][N-1] = - beta[1]*tau\n",
    "    M[N][N] = beta[1]*tau + beta[0]*tau**2\n",
    "    d[N] = B*tau**2\n",
    "    \n",
    "    \"\"\"2) Fill internal elements of matrix M and vector f elements, using residual equasion\"\"\"\n",
    "    \"\"\"2.1) Get vectors [a], [b], [c], and [d]\"\"\"\n",
    "\n",
    "    if order == 'first':\n",
    "        a, c = FirstOrder_ab(N,tau,p,a0)\n",
    "    else:\n",
    "        a, c = SecondOrder_ab(N,tau,p,a0)\n",
    "        \n",
    "    r = np.asarray([q(a0+(i+1)*tau)*tau**2 for i in range(N-1)])\n",
    "    b = a + c - r\n",
    "    d1 = np.array([f(a0+(i+1)*tau)*tau**2 for i in range(N-1)])\n",
    "    \n",
    "    \"\"\"2.2) fill the matrix M and vector [f]\"\"\"\n",
    "    \n",
    "    for i in range(N-1):\n",
    "        M[i+1][i] = a[i]\n",
    "        M[i+1][i+1] = -b[i]\n",
    "        M[i+1][i+2] = c[i]\n",
    "        \n",
    "        d[i+1] = d1[i]\n",
    "    \n",
    "    y = solve(M,d)\n",
    "    \n",
    "    return y"
   ]
  },
  {
   "cell_type": "code",
   "execution_count": 265,
   "metadata": {},
   "outputs": [],
   "source": [
    "###Set constants"
   ]
  },
  {
   "cell_type": "code",
   "execution_count": 266,
   "metadata": {},
   "outputs": [],
   "source": [
    "import math\n",
    "\n",
    "def p(x):\n",
    "    return -math.log(x)\n",
    "\n",
    "def q(x):\n",
    "    return -2\n",
    "\n",
    "def f(x):\n",
    "    return 1 \n",
    "\n",
    "a, b = 0.5, 1.5\n",
    "alpha, beta = [1,1], [1,-1]\n",
    "A, B = 1, 0"
   ]
  },
  {
   "cell_type": "code",
   "execution_count": 267,
   "metadata": {},
   "outputs": [
    {
     "name": "stdout",
     "output_type": "stream",
     "text": [
      "<=GRAPH FOR 2-nd ORDER METHOD, h = 0.125=>\n"
     ]
    },
    {
     "data": {
      "text/plain": [
       "<matplotlib.legend.Legend at 0x268b49addc8>"
      ]
     },
     "execution_count": 267,
     "metadata": {},
     "output_type": "execute_result"
    },
    {
     "data": {
      "image/png": "[encoded data removed]",
      "text/plain": [
       "<Figure size 432x288 with 1 Axes>"
      ]
     },
     "metadata": {
      "needs_background": "light"
     },
     "output_type": "display_data"
    }
   ],
   "source": [
    "N=10\n",
    "y = N_OrderScheme('second',a,b,A,B,alpha,beta,p,q,f,N)\n",
    "\n",
    "print('<=GRAPH FOR 2-nd ORDER METHOD, h = 0.125=>')\n",
    "x = np.linspace(a, b, N+1)\n",
    "fig, ax = plt.subplots() \n",
    "ax.plot(x, y, label='Second order')\n",
    "ax.set_title(f\"N = {N}\")\n",
    "ax.legend()"
   ]
  },
  {
   "cell_type": "code",
   "execution_count": 268,
   "metadata": {},
   "outputs": [],
   "source": [
    "def GetIter(order, N, tol):\n",
    "    \"\"\"Вычисляет число интерций необходимых для достижения требуемой отн. ошибки\"\"\"\n",
    "    \"\"\"tol - наибольшая относительная ошибка на сетке значений x\"\"\"\n",
    "    ###Делаем 1-й шаг итерации\n",
    "    err = 1\n",
    "    y1 = N_OrderScheme(order,a,b,A,B,alpha,beta,p,q,f,N)\n",
    "    \n",
    "    while err > tol:\n",
    "        \n",
    "        ###Удваиваем чтисло промежуточных узлов вдвое\n",
    "        N = N*2\n",
    "        y2 = N_OrderScheme(order,a,b,A,B,alpha,beta,p,q,f,N)\n",
    "        \n",
    "        ###Выбираем значения y2 на узлах предыдущего шага и меряем ошибку\n",
    "        u = np.array([y2[2*i] for i in range(y1.shape[0])])\n",
    "        delta = (u-y1)/y1\n",
    "        err = max([abs(np.max(delta)), abs(np.min(delta))])\n",
    "        print(f\"N = 2e{math.log(N, 2)}, error = {err}\")\n",
    "        \n",
    "        y1 = y2\n",
    "        \n",
    "    return y, N, err"
   ]
  },
  {
   "cell_type": "code",
   "execution_count": 269,
   "metadata": {},
   "outputs": [
    {
     "name": "stdout",
     "output_type": "stream",
     "text": [
      "N = 2e3.5849625007211565, error = 0.7296069264411926\n",
      "N = 2e4.584962500721157, error = 0.4834440350532532\n",
      "N = 2e5.584962500721157, error = 0.3001827001571655\n",
      "N = 2e6.584962500721156, error = 0.17218835651874542\n",
      "N = 2e7.584962500721156, error = 0.09330122917890549\n",
      "N = 2e8.584962500721156, error = 0.047839321196079254\n",
      "N = 2e9.584962500721156, error = 0.01897040195763111\n"
     ]
    },
    {
     "name": "stderr",
     "output_type": "stream",
     "text": [
      "D:\\Anaconda\\lib\\site-packages\\ipykernel_launcher.py:68: LinAlgWarning: Ill-conditioned matrix (rcond=5.17882e-08): result may not be accurate.\n",
      "D:\\Anaconda\\lib\\site-packages\\ipykernel_launcher.py:68: LinAlgWarning: Ill-conditioned matrix (rcond=5.99305e-09): result may not be accurate.\n",
      "D:\\Anaconda\\lib\\site-packages\\ipykernel_launcher.py:68: LinAlgWarning: Ill-conditioned matrix (rcond=7.19053e-10): result may not be accurate.\n",
      "D:\\Anaconda\\lib\\site-packages\\ipykernel_launcher.py:68: LinAlgWarning: Ill-conditioned matrix (rcond=8.85872e-11): result may not be accurate.\n",
      "D:\\Anaconda\\lib\\site-packages\\ipykernel_launcher.py:68: LinAlgWarning: Ill-conditioned matrix (rcond=1.11151e-11): result may not be accurate.\n"
     ]
    },
    {
     "name": "stdout",
     "output_type": "stream",
     "text": [
      "N = 2e10.584962500721156, error = 0.001622120733372867\n"
     ]
    },
    {
     "name": "stderr",
     "output_type": "stream",
     "text": [
      "D:\\Anaconda\\lib\\site-packages\\ipykernel_launcher.py:68: LinAlgWarning: Ill-conditioned matrix (rcond=1.27763e-12): result may not be accurate.\n"
     ]
    },
    {
     "name": "stdout",
     "output_type": "stream",
     "text": [
      "N = 2e11.584962500721158, error = 0.08688662946224213\n"
     ]
    },
    {
     "name": "stderr",
     "output_type": "stream",
     "text": [
      "D:\\Anaconda\\lib\\site-packages\\ipykernel_launcher.py:68: LinAlgWarning: Ill-conditioned matrix (rcond=1.55937e-13): result may not be accurate.\n"
     ]
    },
    {
     "name": "stdout",
     "output_type": "stream",
     "text": [
      "N = 2e12.584962500721158, error = 0.04072292149066925\n"
     ]
    },
    {
     "name": "stderr",
     "output_type": "stream",
     "text": [
      "D:\\Anaconda\\lib\\site-packages\\ipykernel_launcher.py:68: LinAlgWarning: Ill-conditioned matrix (rcond=9.78761e-15): result may not be accurate.\n"
     ]
    },
    {
     "name": "stdout",
     "output_type": "stream",
     "text": [
      "N = 2e13.584962500721158, error = 1.1998796463012695\n"
     ]
    },
    {
     "ename": "KeyboardInterrupt",
     "evalue": "",
     "output_type": "error",
     "traceback": [
      "\u001b[1;31m---------------------------------------------------------------------------\u001b[0m",
      "\u001b[1;31mKeyboardInterrupt\u001b[0m                         Traceback (most recent call last)",
      "\u001b[1;32m<ipython-input-269-b0d4f807309b>\u001b[0m in \u001b[0;36m<module>\u001b[1;34m\u001b[0m\n\u001b[1;32m----> 1\u001b[1;33m \u001b[0my\u001b[0m\u001b[1;33m,\u001b[0m \u001b[0mN\u001b[0m \u001b[1;33m=\u001b[0m \u001b[0mGetIter\u001b[0m\u001b[1;33m(\u001b[0m\u001b[1;34m'first'\u001b[0m\u001b[1;33m,\u001b[0m \u001b[1;36m6\u001b[0m\u001b[1;33m,\u001b[0m \u001b[0mtol\u001b[0m\u001b[1;33m=\u001b[0m\u001b[1;36m1e-4\u001b[0m\u001b[1;33m)\u001b[0m\u001b[1;33m\u001b[0m\u001b[1;33m\u001b[0m\u001b[0m\n\u001b[0m\u001b[0;32m      2\u001b[0m \u001b[0mprint\u001b[0m\u001b[1;33m(\u001b[0m\u001b[0mN\u001b[0m\u001b[1;33m)\u001b[0m\u001b[1;33m\u001b[0m\u001b[1;33m\u001b[0m\u001b[0m\n",
      "\u001b[1;32m<ipython-input-268-f8e24f3ebeca>\u001b[0m in \u001b[0;36mGetIter\u001b[1;34m(order, N, tol)\u001b[0m\n\u001b[0;32m     10\u001b[0m         \u001b[1;31m###Удваиваем чтисло промежуточных узлов вдвое\u001b[0m\u001b[1;33m\u001b[0m\u001b[1;33m\u001b[0m\u001b[1;33m\u001b[0m\u001b[0m\n\u001b[0;32m     11\u001b[0m         \u001b[0mN\u001b[0m \u001b[1;33m=\u001b[0m \u001b[0mN\u001b[0m\u001b[1;33m*\u001b[0m\u001b[1;36m2\u001b[0m\u001b[1;33m\u001b[0m\u001b[1;33m\u001b[0m\u001b[0m\n\u001b[1;32m---> 12\u001b[1;33m         \u001b[0my2\u001b[0m \u001b[1;33m=\u001b[0m \u001b[0mN_OrderScheme\u001b[0m\u001b[1;33m(\u001b[0m\u001b[0morder\u001b[0m\u001b[1;33m,\u001b[0m\u001b[0ma\u001b[0m\u001b[1;33m,\u001b[0m\u001b[0mb\u001b[0m\u001b[1;33m,\u001b[0m\u001b[0mA\u001b[0m\u001b[1;33m,\u001b[0m\u001b[0mB\u001b[0m\u001b[1;33m,\u001b[0m\u001b[0malpha\u001b[0m\u001b[1;33m,\u001b[0m\u001b[0mbeta\u001b[0m\u001b[1;33m,\u001b[0m\u001b[0mp\u001b[0m\u001b[1;33m,\u001b[0m\u001b[0mq\u001b[0m\u001b[1;33m,\u001b[0m\u001b[0mf\u001b[0m\u001b[1;33m,\u001b[0m\u001b[0mN\u001b[0m\u001b[1;33m)\u001b[0m\u001b[1;33m\u001b[0m\u001b[1;33m\u001b[0m\u001b[0m\n\u001b[0m\u001b[0;32m     13\u001b[0m \u001b[1;33m\u001b[0m\u001b[0m\n\u001b[0;32m     14\u001b[0m         \u001b[1;31m###Выбираем значения y2 на узлах предыдущего шага и меряем ошибку\u001b[0m\u001b[1;33m\u001b[0m\u001b[1;33m\u001b[0m\u001b[1;33m\u001b[0m\u001b[0m\n",
      "\u001b[1;32m<ipython-input-264-6f7e28d42ccb>\u001b[0m in \u001b[0;36mN_OrderScheme\u001b[1;34m(order, a0, b0, A, B, alpha, beta, p, q, f, N)\u001b[0m\n\u001b[0;32m     31\u001b[0m     \u001b[0mtau\u001b[0m \u001b[1;33m=\u001b[0m \u001b[1;33m(\u001b[0m\u001b[0mb0\u001b[0m\u001b[1;33m-\u001b[0m\u001b[0ma0\u001b[0m\u001b[1;33m)\u001b[0m\u001b[1;33m/\u001b[0m\u001b[0mN\u001b[0m\u001b[1;33m\u001b[0m\u001b[1;33m\u001b[0m\u001b[0m\n\u001b[0;32m     32\u001b[0m \u001b[1;33m\u001b[0m\u001b[0m\n\u001b[1;32m---> 33\u001b[1;33m     \u001b[0mM\u001b[0m \u001b[1;33m=\u001b[0m \u001b[0mM\u001b[0m\u001b[1;33m.\u001b[0m\u001b[0mastype\u001b[0m\u001b[1;33m(\u001b[0m\u001b[0mnp\u001b[0m\u001b[1;33m.\u001b[0m\u001b[0mfloat32\u001b[0m\u001b[1;33m)\u001b[0m\u001b[1;33m\u001b[0m\u001b[1;33m\u001b[0m\u001b[0m\n\u001b[0m\u001b[0;32m     34\u001b[0m     \u001b[0md\u001b[0m \u001b[1;33m=\u001b[0m \u001b[0md\u001b[0m\u001b[1;33m.\u001b[0m\u001b[0mastype\u001b[0m\u001b[1;33m(\u001b[0m\u001b[0mnp\u001b[0m\u001b[1;33m.\u001b[0m\u001b[0mfloat32\u001b[0m\u001b[1;33m)\u001b[0m\u001b[1;33m\u001b[0m\u001b[1;33m\u001b[0m\u001b[0m\n\u001b[0;32m     35\u001b[0m \u001b[1;33m\u001b[0m\u001b[0m\n",
      "\u001b[1;31mKeyboardInterrupt\u001b[0m: "
     ]
    }
   ],
   "source": [
    "y, N = GetIter('first', 6, tol=1e-4)\n",
    "print(N)"
   ]
  },
  {
   "cell_type": "code",
   "execution_count": 270,
   "metadata": {},
   "outputs": [
    {
     "name": "stdout",
     "output_type": "stream",
     "text": [
      "N = 2e3.5849625007211565, error = 0.7399806380271912\n",
      "N = 2e4.584962500721157, error = 0.48703742027282715\n",
      "N = 2e5.584962500721157, error = 0.2999100685119629\n",
      "N = 2e6.584962500721156, error = 0.16824263334274292\n",
      "N = 2e7.584962500721156, error = 0.1190807968378067\n"
     ]
    },
    {
     "name": "stderr",
     "output_type": "stream",
     "text": [
      "D:\\Anaconda\\lib\\site-packages\\ipykernel_launcher.py:68: LinAlgWarning: Ill-conditioned matrix (rcond=5.18966e-08): result may not be accurate.\n",
      "D:\\Anaconda\\lib\\site-packages\\ipykernel_launcher.py:68: LinAlgWarning: Ill-conditioned matrix (rcond=5.86626e-09): result may not be accurate.\n",
      "D:\\Anaconda\\lib\\site-packages\\ipykernel_launcher.py:68: LinAlgWarning: Ill-conditioned matrix (rcond=6.99968e-10): result may not be accurate.\n",
      "D:\\Anaconda\\lib\\site-packages\\ipykernel_launcher.py:68: LinAlgWarning: Ill-conditioned matrix (rcond=1.00813e-10): result may not be accurate.\n",
      "D:\\Anaconda\\lib\\site-packages\\ipykernel_launcher.py:68: LinAlgWarning: Ill-conditioned matrix (rcond=5.58565e-12): result may not be accurate.\n"
     ]
    },
    {
     "name": "stdout",
     "output_type": "stream",
     "text": [
      "N = 2e8.584962500721156, error = 0.053645819425582886\n",
      "N = 2e9.584962500721156, error = 0.13668371737003326\n",
      "N = 2e10.584962500721156, error = 3.3412537574768066\n"
     ]
    },
    {
     "name": "stderr",
     "output_type": "stream",
     "text": [
      "D:\\Anaconda\\lib\\site-packages\\ipykernel_launcher.py:68: LinAlgWarning: Ill-conditioned matrix (rcond=2.88558e-12): result may not be accurate.\n"
     ]
    },
    {
     "name": "stdout",
     "output_type": "stream",
     "text": [
      "N = 2e11.584962500721158, error = 0.7790812849998474\n"
     ]
    },
    {
     "name": "stderr",
     "output_type": "stream",
     "text": [
      "D:\\Anaconda\\lib\\site-packages\\ipykernel_launcher.py:68: LinAlgWarning: Ill-conditioned matrix (rcond=1.5031e-12): result may not be accurate.\n"
     ]
    },
    {
     "name": "stdout",
     "output_type": "stream",
     "text": [
      "N = 2e12.584962500721158, error = 1.2864683866500854\n"
     ]
    },
    {
     "name": "stderr",
     "output_type": "stream",
     "text": [
      "D:\\Anaconda\\lib\\site-packages\\ipykernel_launcher.py:68: LinAlgWarning: Ill-conditioned matrix (rcond=5.13697e-14): result may not be accurate.\n"
     ]
    },
    {
     "name": "stdout",
     "output_type": "stream",
     "text": [
      "N = 2e13.584962500721158, error = 1.9131625890731812\n"
     ]
    },
    {
     "ename": "MemoryError",
     "evalue": "Unable to allocate 2.25 GiB for an array with shape (24577, 24577) and data type float32",
     "output_type": "error",
     "traceback": [
      "\u001b[1;31m---------------------------------------------------------------------------\u001b[0m",
      "\u001b[1;31mMemoryError\u001b[0m                               Traceback (most recent call last)",
      "\u001b[1;32m<ipython-input-270-007c24ceadf9>\u001b[0m in \u001b[0;36m<module>\u001b[1;34m\u001b[0m\n\u001b[1;32m----> 1\u001b[1;33m \u001b[0my\u001b[0m\u001b[1;33m,\u001b[0m \u001b[0mN\u001b[0m \u001b[1;33m=\u001b[0m \u001b[0mGetIter\u001b[0m\u001b[1;33m(\u001b[0m\u001b[1;34m'second'\u001b[0m\u001b[1;33m,\u001b[0m \u001b[1;36m6\u001b[0m\u001b[1;33m,\u001b[0m \u001b[0mtol\u001b[0m\u001b[1;33m=\u001b[0m\u001b[1;36m1e-2\u001b[0m\u001b[1;33m)\u001b[0m\u001b[1;33m\u001b[0m\u001b[1;33m\u001b[0m\u001b[0m\n\u001b[0m\u001b[0;32m      2\u001b[0m \u001b[0mprint\u001b[0m\u001b[1;33m(\u001b[0m\u001b[0mN\u001b[0m\u001b[1;33m)\u001b[0m\u001b[1;33m\u001b[0m\u001b[1;33m\u001b[0m\u001b[0m\n",
      "\u001b[1;32m<ipython-input-268-f8e24f3ebeca>\u001b[0m in \u001b[0;36mGetIter\u001b[1;34m(order, N, tol)\u001b[0m\n\u001b[0;32m     10\u001b[0m         \u001b[1;31m###Удваиваем чтисло промежуточных узлов вдвое\u001b[0m\u001b[1;33m\u001b[0m\u001b[1;33m\u001b[0m\u001b[1;33m\u001b[0m\u001b[0m\n\u001b[0;32m     11\u001b[0m         \u001b[0mN\u001b[0m \u001b[1;33m=\u001b[0m \u001b[0mN\u001b[0m\u001b[1;33m*\u001b[0m\u001b[1;36m2\u001b[0m\u001b[1;33m\u001b[0m\u001b[1;33m\u001b[0m\u001b[0m\n\u001b[1;32m---> 12\u001b[1;33m         \u001b[0my2\u001b[0m \u001b[1;33m=\u001b[0m \u001b[0mN_OrderScheme\u001b[0m\u001b[1;33m(\u001b[0m\u001b[0morder\u001b[0m\u001b[1;33m,\u001b[0m\u001b[0ma\u001b[0m\u001b[1;33m,\u001b[0m\u001b[0mb\u001b[0m\u001b[1;33m,\u001b[0m\u001b[0mA\u001b[0m\u001b[1;33m,\u001b[0m\u001b[0mB\u001b[0m\u001b[1;33m,\u001b[0m\u001b[0malpha\u001b[0m\u001b[1;33m,\u001b[0m\u001b[0mbeta\u001b[0m\u001b[1;33m,\u001b[0m\u001b[0mp\u001b[0m\u001b[1;33m,\u001b[0m\u001b[0mq\u001b[0m\u001b[1;33m,\u001b[0m\u001b[0mf\u001b[0m\u001b[1;33m,\u001b[0m\u001b[0mN\u001b[0m\u001b[1;33m)\u001b[0m\u001b[1;33m\u001b[0m\u001b[1;33m\u001b[0m\u001b[0m\n\u001b[0m\u001b[0;32m     13\u001b[0m \u001b[1;33m\u001b[0m\u001b[0m\n\u001b[0;32m     14\u001b[0m         \u001b[1;31m###Выбираем значения y2 на узлах предыдущего шага и меряем ошибку\u001b[0m\u001b[1;33m\u001b[0m\u001b[1;33m\u001b[0m\u001b[1;33m\u001b[0m\u001b[0m\n",
      "\u001b[1;32m<ipython-input-264-6f7e28d42ccb>\u001b[0m in \u001b[0;36mN_OrderScheme\u001b[1;34m(order, a0, b0, A, B, alpha, beta, p, q, f, N)\u001b[0m\n\u001b[0;32m     31\u001b[0m     \u001b[0mtau\u001b[0m \u001b[1;33m=\u001b[0m \u001b[1;33m(\u001b[0m\u001b[0mb0\u001b[0m\u001b[1;33m-\u001b[0m\u001b[0ma0\u001b[0m\u001b[1;33m)\u001b[0m\u001b[1;33m/\u001b[0m\u001b[0mN\u001b[0m\u001b[1;33m\u001b[0m\u001b[1;33m\u001b[0m\u001b[0m\n\u001b[0;32m     32\u001b[0m \u001b[1;33m\u001b[0m\u001b[0m\n\u001b[1;32m---> 33\u001b[1;33m     \u001b[0mM\u001b[0m \u001b[1;33m=\u001b[0m \u001b[0mM\u001b[0m\u001b[1;33m.\u001b[0m\u001b[0mastype\u001b[0m\u001b[1;33m(\u001b[0m\u001b[0mnp\u001b[0m\u001b[1;33m.\u001b[0m\u001b[0mfloat32\u001b[0m\u001b[1;33m)\u001b[0m\u001b[1;33m\u001b[0m\u001b[1;33m\u001b[0m\u001b[0m\n\u001b[0m\u001b[0;32m     34\u001b[0m     \u001b[0md\u001b[0m \u001b[1;33m=\u001b[0m \u001b[0md\u001b[0m\u001b[1;33m.\u001b[0m\u001b[0mastype\u001b[0m\u001b[1;33m(\u001b[0m\u001b[0mnp\u001b[0m\u001b[1;33m.\u001b[0m\u001b[0mfloat32\u001b[0m\u001b[1;33m)\u001b[0m\u001b[1;33m\u001b[0m\u001b[1;33m\u001b[0m\u001b[0m\n\u001b[0;32m     35\u001b[0m \u001b[1;33m\u001b[0m\u001b[0m\n",
      "\u001b[1;31mMemoryError\u001b[0m: Unable to allocate 2.25 GiB for an array with shape (24577, 24577) and data type float32"
     ]
    }
   ],
   "source": [
    "y, N = GetIter('second', 6, tol=1e-2)\n",
    "print(N)"
   ]
  },
  {
   "cell_type": "markdown",
   "metadata": {},
   "source": [
    "Для метода 2-го порядка достигается относительная точность ~1e-2. Для метода 1-го порядка с односторонней производной - до ~1e-3."
   ]
  },
  {
   "cell_type": "code",
   "execution_count": 271,
   "metadata": {},
   "outputs": [
    {
     "name": "stderr",
     "output_type": "stream",
     "text": [
      "D:\\Anaconda\\lib\\site-packages\\ipykernel_launcher.py:68: LinAlgWarning: Ill-conditioned matrix (rcond=4.55678e-08): result may not be accurate.\n",
      "D:\\Anaconda\\lib\\site-packages\\ipykernel_launcher.py:68: LinAlgWarning: Ill-conditioned matrix (rcond=4.54788e-08): result may not be accurate.\n"
     ]
    },
    {
     "name": "stdout",
     "output_type": "stream",
     "text": [
      "<=GRAPHS FOR BOTH METHODS, WHEN N = 100=>\n"
     ]
    },
    {
     "data": {
      "text/plain": [
       "<matplotlib.legend.Legend at 0x268b5825e48>"
      ]
     },
     "execution_count": 271,
     "metadata": {},
     "output_type": "execute_result"
    },
    {
     "data": {
      "image/png": "[encoded data removed]",
      "text/plain": [
       "<Figure size 432x288 with 1 Axes>"
      ]
     },
     "metadata": {
      "needs_background": "light"
     },
     "output_type": "display_data"
    }
   ],
   "source": [
    "N = 100\n",
    "y1 = N_OrderScheme('first',a,b,A,B,alpha,beta,p,q,f,N)\n",
    "y2 = N_OrderScheme('second',a,b,A,B,alpha,beta,p,q,f,N)\n",
    "\n",
    "print('<=GRAPHS FOR BOTH METHODS, WHEN N = 100=>')\n",
    "x = np.linspace(a, b, N+1)\n",
    "fig, ax = plt.subplots() \n",
    "ax.plot(x, y1, label='First order')\n",
    "ax.plot(x, y2, label='Second order')\n",
    "ax.set_title(f\"N = {N}\")\n",
    "ax.legend()"
   ]
  },
  {
   "cell_type": "code",
   "execution_count": 272,
   "metadata": {},
   "outputs": [
    {
     "name": "stderr",
     "output_type": "stream",
     "text": [
      "D:\\Anaconda\\lib\\site-packages\\ipykernel_launcher.py:68: LinAlgWarning: Ill-conditioned matrix (rcond=5.93303e-13): result may not be accurate.\n"
     ]
    },
    {
     "name": "stdout",
     "output_type": "stream",
     "text": [
      "<=AT BIG N SOLUTIONS START DIVERGE, N = 4000=>\n"
     ]
    },
    {
     "name": "stderr",
     "output_type": "stream",
     "text": [
      "D:\\Anaconda\\lib\\site-packages\\ipykernel_launcher.py:68: LinAlgWarning: Ill-conditioned matrix (rcond=6.0701e-12): result may not be accurate.\n"
     ]
    },
    {
     "data": {
      "text/plain": [
       "<matplotlib.legend.Legend at 0x268b5880fc8>"
      ]
     },
     "execution_count": 272,
     "metadata": {},
     "output_type": "execute_result"
    },
    {
     "data": {
      "image/png": "[encoded data removed]",
      "text/plain": [
       "<Figure size 432x288 with 1 Axes>"
      ]
     },
     "metadata": {
      "needs_background": "light"
     },
     "output_type": "display_data"
    }
   ],
   "source": [
    "N = 4000\n",
    "y1 = N_OrderScheme('first',a,b,A,B,alpha,beta,p,q,f,N)\n",
    "y2 = N_OrderScheme('second',a,b,A,B,alpha,beta,p,q,f,N)\n",
    "\n",
    "print('<=AT BIG N SOLUTIONS START DIVERGE, N = 4000=>')\n",
    "x = np.linspace(a, b, N+1)\n",
    "fig, ax = plt.subplots() \n",
    "ax.plot(x, y1, label='First order')\n",
    "ax.plot(x, y2, label='Second order')\n",
    "ax.set_title(f\"N = {N}\")\n",
    "ax.legend()"
   ]
  },
  {
   "cell_type": "markdown",
   "metadata": {},
   "source": [
    "# 2. Consider the following boundary value problem:\n",
    "\n",
    "$\\frac{d^2y}{dx^2}+2\\frac{dy}{dx}-3xy=\\frac{2-8x}{x^3}$ for $x \\in [1,2]$\n",
    "\n",
    "### with the boundary conditions:\n",
    "\n",
    "$y(1)=1$, $y(2)=0.5$\n",
    "\n",
    "2.1. Solve this problem using finite difference method of the second order. Find number of grid points required to achieve accuracy of the order of 1e-6.\n",
    "\n",
    "2.2. Solve this problem using Galerkin method with power basis functions. Find number of grid points required to achieve accuracy of the order of 1e-6.\n",
    "\n",
    "2.3. Plot the solutions of both methods on the same figure. Compare results and discuss differences (if occurs)."
   ]
  },
  {
   "cell_type": "code",
   "execution_count": 273,
   "metadata": {},
   "outputs": [],
   "source": [
    "def p(x):\n",
    "    return 2\n",
    "\n",
    "def q(x):\n",
    "    return -2*x\n",
    "\n",
    "def f(x):\n",
    "    return (2-8*x)/x**3\n",
    "\n",
    "a, b = 1, 2\n",
    "alpha, beta = [1, 0], [1, 0]\n",
    "A, B = 1, 0.5"
   ]
  },
  {
   "cell_type": "code",
   "execution_count": 274,
   "metadata": {},
   "outputs": [
    {
     "name": "stdout",
     "output_type": "stream",
     "text": [
      "N = 2e2.0, error = 0.003245088504627347\n",
      "N = 2e3.0, error = 0.001006521750241518\n",
      "N = 2e4.0, error = 0.00026072413311339915\n",
      "N = 2e5.0, error = 7.549193105660379e-05\n",
      "N = 2e6.0, error = 0.0001802988990675658\n",
      "N = 2e7.0, error = 0.0002513909130357206\n",
      "N = 2e8.0, error = 0.003526515094563365\n",
      "N = 2e9.0, error = 0.0053350781090557575\n",
      "N = 2e10.0, error = 0.0005417362553998828\n"
     ]
    },
    {
     "name": "stderr",
     "output_type": "stream",
     "text": [
      "D:\\Anaconda\\lib\\site-packages\\ipykernel_launcher.py:68: LinAlgWarning: Ill-conditioned matrix (rcond=2.87427e-08): result may not be accurate.\n",
      "D:\\Anaconda\\lib\\site-packages\\ipykernel_launcher.py:68: LinAlgWarning: Ill-conditioned matrix (rcond=3.58942e-09): result may not be accurate.\n",
      "D:\\Anaconda\\lib\\site-packages\\ipykernel_launcher.py:68: LinAlgWarning: Ill-conditioned matrix (rcond=4.49369e-10): result may not be accurate.\n",
      "D:\\Anaconda\\lib\\site-packages\\ipykernel_launcher.py:68: LinAlgWarning: Ill-conditioned matrix (rcond=5.60436e-11): result may not be accurate.\n"
     ]
    },
    {
     "name": "stdout",
     "output_type": "stream",
     "text": [
      "N = 2e11.0, error = 0.019890103489160538\n"
     ]
    },
    {
     "name": "stderr",
     "output_type": "stream",
     "text": [
      "D:\\Anaconda\\lib\\site-packages\\ipykernel_launcher.py:68: LinAlgWarning: Ill-conditioned matrix (rcond=7.21311e-12): result may not be accurate.\n"
     ]
    },
    {
     "name": "stdout",
     "output_type": "stream",
     "text": [
      "N = 2e12.0, error = 0.8759775757789612\n"
     ]
    },
    {
     "name": "stderr",
     "output_type": "stream",
     "text": [
      "D:\\Anaconda\\lib\\site-packages\\ipykernel_launcher.py:68: LinAlgWarning: Ill-conditioned matrix (rcond=4.55642e-13): result may not be accurate.\n"
     ]
    },
    {
     "name": "stdout",
     "output_type": "stream",
     "text": [
      "N = 2e13.0, error = 15.10912036895752\n"
     ]
    },
    {
     "ename": "KeyboardInterrupt",
     "evalue": "",
     "output_type": "error",
     "traceback": [
      "\u001b[1;31m---------------------------------------------------------------------------\u001b[0m",
      "\u001b[1;31mKeyboardInterrupt\u001b[0m                         Traceback (most recent call last)",
      "\u001b[1;32m<ipython-input-274-e814da018ac9>\u001b[0m in \u001b[0;36m<module>\u001b[1;34m\u001b[0m\n\u001b[1;32m----> 1\u001b[1;33m \u001b[0my\u001b[0m\u001b[1;33m,\u001b[0m \u001b[0mN\u001b[0m \u001b[1;33m=\u001b[0m \u001b[0mGetIter\u001b[0m\u001b[1;33m(\u001b[0m\u001b[1;34m'second'\u001b[0m\u001b[1;33m,\u001b[0m \u001b[1;36m2\u001b[0m\u001b[1;33m,\u001b[0m \u001b[0mtol\u001b[0m\u001b[1;33m=\u001b[0m\u001b[1;36m1e-6\u001b[0m\u001b[1;33m)\u001b[0m\u001b[1;33m\u001b[0m\u001b[1;33m\u001b[0m\u001b[0m\n\u001b[0m\u001b[0;32m      2\u001b[0m \u001b[0mprint\u001b[0m\u001b[1;33m(\u001b[0m\u001b[0mN\u001b[0m\u001b[1;33m)\u001b[0m\u001b[1;33m\u001b[0m\u001b[1;33m\u001b[0m\u001b[0m\n",
      "\u001b[1;32m<ipython-input-268-f8e24f3ebeca>\u001b[0m in \u001b[0;36mGetIter\u001b[1;34m(order, N, tol)\u001b[0m\n\u001b[0;32m     10\u001b[0m         \u001b[1;31m###Удваиваем чтисло промежуточных узлов вдвое\u001b[0m\u001b[1;33m\u001b[0m\u001b[1;33m\u001b[0m\u001b[1;33m\u001b[0m\u001b[0m\n\u001b[0;32m     11\u001b[0m         \u001b[0mN\u001b[0m \u001b[1;33m=\u001b[0m \u001b[0mN\u001b[0m\u001b[1;33m*\u001b[0m\u001b[1;36m2\u001b[0m\u001b[1;33m\u001b[0m\u001b[1;33m\u001b[0m\u001b[0m\n\u001b[1;32m---> 12\u001b[1;33m         \u001b[0my2\u001b[0m \u001b[1;33m=\u001b[0m \u001b[0mN_OrderScheme\u001b[0m\u001b[1;33m(\u001b[0m\u001b[0morder\u001b[0m\u001b[1;33m,\u001b[0m\u001b[0ma\u001b[0m\u001b[1;33m,\u001b[0m\u001b[0mb\u001b[0m\u001b[1;33m,\u001b[0m\u001b[0mA\u001b[0m\u001b[1;33m,\u001b[0m\u001b[0mB\u001b[0m\u001b[1;33m,\u001b[0m\u001b[0malpha\u001b[0m\u001b[1;33m,\u001b[0m\u001b[0mbeta\u001b[0m\u001b[1;33m,\u001b[0m\u001b[0mp\u001b[0m\u001b[1;33m,\u001b[0m\u001b[0mq\u001b[0m\u001b[1;33m,\u001b[0m\u001b[0mf\u001b[0m\u001b[1;33m,\u001b[0m\u001b[0mN\u001b[0m\u001b[1;33m)\u001b[0m\u001b[1;33m\u001b[0m\u001b[1;33m\u001b[0m\u001b[0m\n\u001b[0m\u001b[0;32m     13\u001b[0m \u001b[1;33m\u001b[0m\u001b[0m\n\u001b[0;32m     14\u001b[0m         \u001b[1;31m###Выбираем значения y2 на узлах предыдущего шага и меряем ошибку\u001b[0m\u001b[1;33m\u001b[0m\u001b[1;33m\u001b[0m\u001b[1;33m\u001b[0m\u001b[0m\n",
      "\u001b[1;32m<ipython-input-264-6f7e28d42ccb>\u001b[0m in \u001b[0;36mN_OrderScheme\u001b[1;34m(order, a0, b0, A, B, alpha, beta, p, q, f, N)\u001b[0m\n\u001b[0;32m     66\u001b[0m         \u001b[0md\u001b[0m\u001b[1;33m[\u001b[0m\u001b[0mi\u001b[0m\u001b[1;33m+\u001b[0m\u001b[1;36m1\u001b[0m\u001b[1;33m]\u001b[0m \u001b[1;33m=\u001b[0m \u001b[0md1\u001b[0m\u001b[1;33m[\u001b[0m\u001b[0mi\u001b[0m\u001b[1;33m]\u001b[0m\u001b[1;33m\u001b[0m\u001b[1;33m\u001b[0m\u001b[0m\n\u001b[0;32m     67\u001b[0m \u001b[1;33m\u001b[0m\u001b[0m\n\u001b[1;32m---> 68\u001b[1;33m     \u001b[0my\u001b[0m \u001b[1;33m=\u001b[0m \u001b[0msolve\u001b[0m\u001b[1;33m(\u001b[0m\u001b[0mM\u001b[0m\u001b[1;33m,\u001b[0m\u001b[0md\u001b[0m\u001b[1;33m)\u001b[0m\u001b[1;33m\u001b[0m\u001b[1;33m\u001b[0m\u001b[0m\n\u001b[0m\u001b[0;32m     69\u001b[0m \u001b[1;33m\u001b[0m\u001b[0m\n\u001b[0;32m     70\u001b[0m     \u001b[1;32mreturn\u001b[0m \u001b[0my\u001b[0m\u001b[1;33m\u001b[0m\u001b[1;33m\u001b[0m\u001b[0m\n",
      "\u001b[1;32mD:\\Anaconda\\lib\\site-packages\\scipy\\linalg\\basic.py\u001b[0m in \u001b[0;36msolve\u001b[1;34m(a, b, sym_pos, lower, overwrite_a, overwrite_b, debug, check_finite, assume_a, transposed)\u001b[0m\n\u001b[0;32m    207\u001b[0m         \u001b[0mnorm\u001b[0m \u001b[1;33m=\u001b[0m \u001b[1;34m'1'\u001b[0m\u001b[1;33m\u001b[0m\u001b[1;33m\u001b[0m\u001b[0m\n\u001b[0;32m    208\u001b[0m \u001b[1;33m\u001b[0m\u001b[0m\n\u001b[1;32m--> 209\u001b[1;33m     \u001b[0manorm\u001b[0m \u001b[1;33m=\u001b[0m \u001b[0mlange\u001b[0m\u001b[1;33m(\u001b[0m\u001b[0mnorm\u001b[0m\u001b[1;33m,\u001b[0m \u001b[0ma1\u001b[0m\u001b[1;33m)\u001b[0m\u001b[1;33m\u001b[0m\u001b[1;33m\u001b[0m\u001b[0m\n\u001b[0m\u001b[0;32m    210\u001b[0m \u001b[1;33m\u001b[0m\u001b[0m\n\u001b[0;32m    211\u001b[0m     \u001b[1;31m# Generalized case 'gesv'\u001b[0m\u001b[1;33m\u001b[0m\u001b[1;33m\u001b[0m\u001b[1;33m\u001b[0m\u001b[0m\n",
      "\u001b[1;31mKeyboardInterrupt\u001b[0m: "
     ]
    }
   ],
   "source": [
    "y, N = GetIter('second', 2, tol=1e-6)\n",
    "print(N)"
   ]
  },
  {
   "cell_type": "markdown",
   "metadata": {},
   "source": [
    "Метод конечных разностей 2-го порядка достигает точности ~1e-5"
   ]
  },
  {
   "cell_type": "code",
   "execution_count": 275,
   "metadata": {},
   "outputs": [
    {
     "name": "stdout",
     "output_type": "stream",
     "text": [
      "<=FINITE DIFFERENCE OF SECOND ORDER, N = 100=>\n"
     ]
    },
    {
     "data": {
      "text/plain": [
       "<matplotlib.legend.Legend at 0x268b58ecf08>"
      ]
     },
     "execution_count": 275,
     "metadata": {},
     "output_type": "execute_result"
    },
    {
     "data": {
      "image/png": "[encoded data removed]",
      "text/plain": [
       "<Figure size 432x288 with 1 Axes>"
      ]
     },
     "metadata": {
      "needs_background": "light"
     },
     "output_type": "display_data"
    }
   ],
   "source": [
    "N = 100\n",
    "y = N_OrderScheme('second',a,b,A,B,alpha,beta,p,q,f,N)\n",
    "\n",
    "print('<=FINITE DIFFERENCE OF SECOND ORDER, N = 100=>')\n",
    "x = np.linspace(a, b, N+1)\n",
    "fig, ax = plt.subplots() \n",
    "ax.plot(x, y, label='Second order')\n",
    "ax.set_title(f\"N = {N}\")\n",
    "ax.legend()"
   ]
  },
  {
   "cell_type": "markdown",
   "metadata": {},
   "source": [
    "## Galerkin method\n",
    "Сделаем аффинное преобразование координат:\n",
    "\n",
    "$\n",
    "x \\rightarrow 2(x - 1.5)\n",
    "$\n",
    "\n",
    "Уравнение приобретёт вид:\n",
    "\n",
    "$\\frac{1}{4} \\frac{d^2y}{dx^2}+ \\frac{dy}{dx}-3(\\frac{x}{2}+1.5)y=\\frac{2-8(\\frac{x}{2}+1.5)}{(\\frac{x}{2}+1.5)^3}$ for $x \\in [-1,1]$\n",
    "\n",
    "### Выберем базисные функции:\n",
    "$\n",
    "y = \\phi_0(x) + \\sum_{k=1}^N \\phi_k(x)\n",
    "$\n",
    "\n",
    "Где $\\phi_0$ удовлетворяет граничным условиям, а $\\phi_k$ - функции полного базиса на $[a, b]$\n",
    "\n",
    "$\n",
    "\\phi_0(x) = \\frac{3}{4} -\\frac{1}{4}x, \\: \\: \\: \\phi_k(x) = (x+1)(x-1)^k\n",
    "$\n",
    "\n",
    "Требуем равенства нулю интеграла:\n",
    "$$\n",
    "\\int N(x) \\phi_k dx = \\int \\Bigr( L[u] - f(x) dx \\Bigl) \\phi_k = \\int \\Bigr(L \\left[\\sum_{i=1}^N \\beta_i \\phi_i  \\right] - f(x)\\Bigl) \\phi_k dx \n",
    "$$\n",
    "Появляются интегралы от $\\phi^{''}$, $\\phi^{'}$, которые в силу выбранного базиса будут равны нулю. Тогда мы получим систему уравнений вида $Ax = b$:\n",
    "$$\n",
    "\\sum_{i=1}^N \\beta_i \\int \\left( \\frac{1}{4} \\phi^{''}_i + \\phi'_i -3\\left(\\frac{x}{2}+1.5\\right) \\phi_i \\right) \\phi_k dx = \\int f(x) \\phi_k dx,\n",
    "$$\n",
    "\n",
    "$$\n",
    "\\sum_{i=1}^N \\beta_i \\int \\Psi_i \\phi_k dx = \\int f(x) \\phi_k dx,\n",
    "$$"
   ]
  },
  {
   "cell_type": "markdown",
   "metadata": {},
   "source": [
    "Все интегралы вычислим с помощью Гауссовых квадратур."
   ]
  },
  {
   "cell_type": "code",
   "execution_count": 282,
   "metadata": {},
   "outputs": [],
   "source": [
    "from scipy.special import roots_legendre\n",
    "\n",
    "### По отдельности запишем компоненты Psi соответствующие разным порядком производной phi \n",
    "def Psi(x, k):\n",
    "    Psi = PsiDerOrder2(x, k) + PsiDerOrder1(x, k) + PsiDerOrder1(x, k)\n",
    "    return Psi\n",
    "\n",
    "def PsiDerOrder2(x, k):\n",
    "    if k == 1:\n",
    "        return 2*(1/4)\n",
    "    else:\n",
    "        return (k*(k+1)*x+k*(k-3))*((x-1)**(k-2))*(1/4)\n",
    "\n",
    "def PsiDerOrder1(x, k):    \n",
    "    return ((k+1)*x+k-1)*(x-1)**(k-1)\n",
    "    \n",
    "def PsiDerOrder0(x, k):\n",
    "    return -3*(x/2+3/2)*phi(x, k)\n",
    "\n",
    "def phi(x, k):\n",
    "    return (x+1)*(x-1)**k\n",
    "\n",
    "def f(x, k):\n",
    "    return (2-8*(x/2 + 3/2))/(x/2+3/2)**3\n",
    "\n",
    "def ScalarProd(f, i, g, k, N=100):\n",
    "    \"\"\"Считаем скалярное произведение двух функций на отрезке методом Гауссовых квадратур\"\"\"\n",
    "    \"\"\"Функция f имеет индекс i, функция g имеет индекс k\"\"\"\n",
    "    roots, mu = roots_legendre(N, mu=False)\n",
    "    integral = 0\n",
    "    for n in range(N): \n",
    "        integral+=f(roots[n], i)*g(roots[n], k)*mu[n]\n",
    "    return integral"
   ]
  },
  {
   "cell_type": "code",
   "execution_count": 283,
   "metadata": {},
   "outputs": [],
   "source": [
    "\"\"\"Идеология использования метода такова:\n",
    "1) В общем виде у нас есть Psi(phi, p, q), phi и f\n",
    "2) Мы руками пишем функции Psi и f, перенося уравнение аффинным преобразованием на [-1, 1], выбираем phi\n",
    "3) Находим все интегралы через Гауссовы квадратуры (в функцию интеграла руками выписываем правильные полиномы,\n",
    "учитывая вид функций)\n",
    "4) Храним результат как есть. При использовании функции y (допустим, для вывода на график) \n",
    "учитываем аффинное преобразование\"\"\"\n",
    "\n",
    "def GalerkinSolve(Psi, phi, f, N):\n",
    "    \"\"\"<=Construct matrix and vector of system: Ax = b=>\"\"\"\n",
    "    A = np.reshape( np.asarray( [ScalarProd(Psi, i+1, phi, k+1) for i in range(N) for k in range(N)] ), (N, N) )\n",
    "    b = np.asarray( [ScalarProd(f, -1, phi, k+1) for k in range(N)] )\n",
    "    \n",
    "    x = solve(A,b)\n",
    "    \n",
    "    return x"
   ]
  },
  {
   "cell_type": "code",
   "execution_count": 284,
   "metadata": {},
   "outputs": [
    {
     "name": "stdout",
     "output_type": "stream",
     "text": [
      "<=GALERKIN METHOD, N = 5=>\n"
     ]
    },
    {
     "name": "stderr",
     "output_type": "stream",
     "text": [
      "D:\\Anaconda\\lib\\site-packages\\ipykernel_launcher.py:14: LinAlgWarning: Ill-conditioned matrix (rcond=3.35143e-28): result may not be accurate.\n",
      "  \n"
     ]
    },
    {
     "data": {
      "text/plain": [
       "'Проверка начальных условий'"
      ]
     },
     "execution_count": 284,
     "metadata": {},
     "output_type": "execute_result"
    },
    {
     "data": {
      "image/png": "[encoded data removed]",
      "text/plain": [
       "<Figure size 432x288 with 1 Axes>"
      ]
     },
     "metadata": {
      "needs_background": "light"
     },
     "output_type": "display_data"
    }
   ],
   "source": [
    "def phi0(x):\n",
    "    return 3/4 - 1/4*x\n",
    "\n",
    "def y(x, beta):\n",
    "    y = 0\n",
    "    for k in range(beta.shape[0]):\n",
    "        y+=beta[k]*phi(x, k+1)\n",
    "    y+=phi0(x)\n",
    "    return y\n",
    "\n",
    "\"\"\"Выставляется нужное число базисных функций\"\"\"\n",
    "N = 30\n",
    "beta = GalerkinSolve(Psi, phi, f, N)\n",
    "#print(beta)\n",
    "\n",
    "print('<=GALERKIN METHOD, N = 5=>')\n",
    "### Число узлов\n",
    "K = 50\n",
    "x = np.linspace(-1, 1, K)\n",
    "fig, ax = plt.subplots() \n",
    "k = 2\n",
    "### При выводе учтём аффинное преобразование\n",
    "ax.plot(x/2+np.ones(K)*3/2, y(x, beta))\n",
    "\n",
    "\"\"\"Проверка начальных условий\"\"\"\n",
    "#beta = np.zeros(beta.shape[0])\n",
    "#ax.plot(x, y(x, beta))"
   ]
  },
  {
   "cell_type": "code",
   "execution_count": 287,
   "metadata": {},
   "outputs": [
    {
     "name": "stdout",
     "output_type": "stream",
     "text": [
      "N = 2e2.0, error = 1.3015099898257811\n",
      "N = 2e3.0, error = 0.21644641938311138\n"
     ]
    },
    {
     "name": "stderr",
     "output_type": "stream",
     "text": [
      "D:\\Anaconda\\lib\\site-packages\\ipykernel_launcher.py:14: LinAlgWarning: Ill-conditioned matrix (rcond=6.68414e-21): result may not be accurate.\n",
      "  \n"
     ]
    },
    {
     "name": "stdout",
     "output_type": "stream",
     "text": [
      "N = 2e4.0, error = 0.002646088402279236\n"
     ]
    },
    {
     "name": "stderr",
     "output_type": "stream",
     "text": [
      "D:\\Anaconda\\lib\\site-packages\\ipykernel_launcher.py:14: LinAlgWarning: Ill-conditioned matrix (rcond=7.87055e-30): result may not be accurate.\n",
      "  \n"
     ]
    },
    {
     "name": "stdout",
     "output_type": "stream",
     "text": [
      "N = 2e5.0, error = 9.918691200159184e-06\n"
     ]
    },
    {
     "name": "stderr",
     "output_type": "stream",
     "text": [
      "D:\\Anaconda\\lib\\site-packages\\ipykernel_launcher.py:14: LinAlgWarning: Ill-conditioned matrix (rcond=4.686e-46): result may not be accurate.\n",
      "  \n"
     ]
    },
    {
     "name": "stdout",
     "output_type": "stream",
     "text": [
      "N = 2e6.0, error = 4.1699225596241864e-05\n"
     ]
    },
    {
     "name": "stderr",
     "output_type": "stream",
     "text": [
      "D:\\Anaconda\\lib\\site-packages\\ipykernel_launcher.py:14: LinAlgWarning: Ill-conditioned matrix (rcond=3.09055e-83): result may not be accurate.\n",
      "  \n"
     ]
    },
    {
     "name": "stdout",
     "output_type": "stream",
     "text": [
      "N = 2e7.0, error = 2.4167767195916816e-05\n"
     ]
    },
    {
     "ename": "KeyboardInterrupt",
     "evalue": "",
     "output_type": "error",
     "traceback": [
      "\u001b[1;31m---------------------------------------------------------------------------\u001b[0m",
      "\u001b[1;31mKeyboardInterrupt\u001b[0m                         Traceback (most recent call last)",
      "\u001b[1;32m<ipython-input-287-affb74a4a2a5>\u001b[0m in \u001b[0;36m<module>\u001b[1;34m\u001b[0m\n\u001b[0;32m     23\u001b[0m     \u001b[1;32mreturn\u001b[0m \u001b[0mN\u001b[0m\u001b[1;33m\u001b[0m\u001b[1;33m\u001b[0m\u001b[0m\n\u001b[0;32m     24\u001b[0m \u001b[1;33m\u001b[0m\u001b[0m\n\u001b[1;32m---> 25\u001b[1;33m \u001b[0mN\u001b[0m \u001b[1;33m=\u001b[0m \u001b[0mGetIter\u001b[0m\u001b[1;33m(\u001b[0m\u001b[1;36m2\u001b[0m\u001b[1;33m,\u001b[0m \u001b[1;36m1e-6\u001b[0m\u001b[1;33m)\u001b[0m\u001b[1;33m\u001b[0m\u001b[1;33m\u001b[0m\u001b[0m\n\u001b[0m",
      "\u001b[1;32m<ipython-input-287-affb74a4a2a5>\u001b[0m in \u001b[0;36mGetIter\u001b[1;34m(N, tol)\u001b[0m\n\u001b[0;32m     11\u001b[0m         \u001b[1;31m### Удваиваем чтисло промежуточных узлов вдвое\u001b[0m\u001b[1;33m\u001b[0m\u001b[1;33m\u001b[0m\u001b[1;33m\u001b[0m\u001b[0m\n\u001b[0;32m     12\u001b[0m         \u001b[0mN\u001b[0m \u001b[1;33m=\u001b[0m \u001b[0mN\u001b[0m\u001b[1;33m*\u001b[0m\u001b[1;36m2\u001b[0m\u001b[1;33m\u001b[0m\u001b[1;33m\u001b[0m\u001b[0m\n\u001b[1;32m---> 13\u001b[1;33m         \u001b[0mbeta2\u001b[0m \u001b[1;33m=\u001b[0m \u001b[0mGalerkinSolve\u001b[0m\u001b[1;33m(\u001b[0m\u001b[0mPsi\u001b[0m\u001b[1;33m,\u001b[0m \u001b[0mphi\u001b[0m\u001b[1;33m,\u001b[0m \u001b[0mf\u001b[0m\u001b[1;33m,\u001b[0m \u001b[0mN\u001b[0m\u001b[1;33m)\u001b[0m\u001b[1;33m\u001b[0m\u001b[1;33m\u001b[0m\u001b[0m\n\u001b[0m\u001b[0;32m     14\u001b[0m \u001b[1;33m\u001b[0m\u001b[0m\n\u001b[0;32m     15\u001b[0m         \u001b[1;31m### Ставим сетку и меряем максимальную относительную разность\u001b[0m\u001b[1;33m\u001b[0m\u001b[1;33m\u001b[0m\u001b[1;33m\u001b[0m\u001b[0m\n",
      "\u001b[1;32m<ipython-input-283-62026eaf1fa6>\u001b[0m in \u001b[0;36mGalerkinSolve\u001b[1;34m(Psi, phi, f, N)\u001b[0m\n\u001b[0;32m      9\u001b[0m \u001b[1;32mdef\u001b[0m \u001b[0mGalerkinSolve\u001b[0m\u001b[1;33m(\u001b[0m\u001b[0mPsi\u001b[0m\u001b[1;33m,\u001b[0m \u001b[0mphi\u001b[0m\u001b[1;33m,\u001b[0m \u001b[0mf\u001b[0m\u001b[1;33m,\u001b[0m \u001b[0mN\u001b[0m\u001b[1;33m)\u001b[0m\u001b[1;33m:\u001b[0m\u001b[1;33m\u001b[0m\u001b[1;33m\u001b[0m\u001b[0m\n\u001b[0;32m     10\u001b[0m     \u001b[1;34m\"\"\"<=Construct matrix and vector of system: Ax = b=>\"\"\"\u001b[0m\u001b[1;33m\u001b[0m\u001b[1;33m\u001b[0m\u001b[0m\n\u001b[1;32m---> 11\u001b[1;33m     \u001b[0mA\u001b[0m \u001b[1;33m=\u001b[0m \u001b[0mnp\u001b[0m\u001b[1;33m.\u001b[0m\u001b[0mreshape\u001b[0m\u001b[1;33m(\u001b[0m \u001b[0mnp\u001b[0m\u001b[1;33m.\u001b[0m\u001b[0masarray\u001b[0m\u001b[1;33m(\u001b[0m \u001b[1;33m[\u001b[0m\u001b[0mScalarProd\u001b[0m\u001b[1;33m(\u001b[0m\u001b[0mPsi\u001b[0m\u001b[1;33m,\u001b[0m \u001b[0mi\u001b[0m\u001b[1;33m+\u001b[0m\u001b[1;36m1\u001b[0m\u001b[1;33m,\u001b[0m \u001b[0mphi\u001b[0m\u001b[1;33m,\u001b[0m \u001b[0mk\u001b[0m\u001b[1;33m+\u001b[0m\u001b[1;36m1\u001b[0m\u001b[1;33m)\u001b[0m \u001b[1;32mfor\u001b[0m \u001b[0mi\u001b[0m \u001b[1;32min\u001b[0m \u001b[0mrange\u001b[0m\u001b[1;33m(\u001b[0m\u001b[0mN\u001b[0m\u001b[1;33m)\u001b[0m \u001b[1;32mfor\u001b[0m \u001b[0mk\u001b[0m \u001b[1;32min\u001b[0m \u001b[0mrange\u001b[0m\u001b[1;33m(\u001b[0m\u001b[0mN\u001b[0m\u001b[1;33m)\u001b[0m\u001b[1;33m]\u001b[0m \u001b[1;33m)\u001b[0m\u001b[1;33m,\u001b[0m \u001b[1;33m(\u001b[0m\u001b[0mN\u001b[0m\u001b[1;33m,\u001b[0m \u001b[0mN\u001b[0m\u001b[1;33m)\u001b[0m \u001b[1;33m)\u001b[0m\u001b[1;33m\u001b[0m\u001b[1;33m\u001b[0m\u001b[0m\n\u001b[0m\u001b[0;32m     12\u001b[0m     \u001b[0mb\u001b[0m \u001b[1;33m=\u001b[0m \u001b[0mnp\u001b[0m\u001b[1;33m.\u001b[0m\u001b[0masarray\u001b[0m\u001b[1;33m(\u001b[0m \u001b[1;33m[\u001b[0m\u001b[0mScalarProd\u001b[0m\u001b[1;33m(\u001b[0m\u001b[0mf\u001b[0m\u001b[1;33m,\u001b[0m \u001b[1;33m-\u001b[0m\u001b[1;36m1\u001b[0m\u001b[1;33m,\u001b[0m \u001b[0mphi\u001b[0m\u001b[1;33m,\u001b[0m \u001b[0mk\u001b[0m\u001b[1;33m+\u001b[0m\u001b[1;36m1\u001b[0m\u001b[1;33m)\u001b[0m \u001b[1;32mfor\u001b[0m \u001b[0mk\u001b[0m \u001b[1;32min\u001b[0m \u001b[0mrange\u001b[0m\u001b[1;33m(\u001b[0m\u001b[0mN\u001b[0m\u001b[1;33m)\u001b[0m\u001b[1;33m]\u001b[0m \u001b[1;33m)\u001b[0m\u001b[1;33m\u001b[0m\u001b[1;33m\u001b[0m\u001b[0m\n\u001b[0;32m     13\u001b[0m \u001b[1;33m\u001b[0m\u001b[0m\n",
      "\u001b[1;32m<ipython-input-283-62026eaf1fa6>\u001b[0m in \u001b[0;36m<listcomp>\u001b[1;34m(.0)\u001b[0m\n\u001b[0;32m      9\u001b[0m \u001b[1;32mdef\u001b[0m \u001b[0mGalerkinSolve\u001b[0m\u001b[1;33m(\u001b[0m\u001b[0mPsi\u001b[0m\u001b[1;33m,\u001b[0m \u001b[0mphi\u001b[0m\u001b[1;33m,\u001b[0m \u001b[0mf\u001b[0m\u001b[1;33m,\u001b[0m \u001b[0mN\u001b[0m\u001b[1;33m)\u001b[0m\u001b[1;33m:\u001b[0m\u001b[1;33m\u001b[0m\u001b[1;33m\u001b[0m\u001b[0m\n\u001b[0;32m     10\u001b[0m     \u001b[1;34m\"\"\"<=Construct matrix and vector of system: Ax = b=>\"\"\"\u001b[0m\u001b[1;33m\u001b[0m\u001b[1;33m\u001b[0m\u001b[0m\n\u001b[1;32m---> 11\u001b[1;33m     \u001b[0mA\u001b[0m \u001b[1;33m=\u001b[0m \u001b[0mnp\u001b[0m\u001b[1;33m.\u001b[0m\u001b[0mreshape\u001b[0m\u001b[1;33m(\u001b[0m \u001b[0mnp\u001b[0m\u001b[1;33m.\u001b[0m\u001b[0masarray\u001b[0m\u001b[1;33m(\u001b[0m \u001b[1;33m[\u001b[0m\u001b[0mScalarProd\u001b[0m\u001b[1;33m(\u001b[0m\u001b[0mPsi\u001b[0m\u001b[1;33m,\u001b[0m \u001b[0mi\u001b[0m\u001b[1;33m+\u001b[0m\u001b[1;36m1\u001b[0m\u001b[1;33m,\u001b[0m \u001b[0mphi\u001b[0m\u001b[1;33m,\u001b[0m \u001b[0mk\u001b[0m\u001b[1;33m+\u001b[0m\u001b[1;36m1\u001b[0m\u001b[1;33m)\u001b[0m \u001b[1;32mfor\u001b[0m \u001b[0mi\u001b[0m \u001b[1;32min\u001b[0m \u001b[0mrange\u001b[0m\u001b[1;33m(\u001b[0m\u001b[0mN\u001b[0m\u001b[1;33m)\u001b[0m \u001b[1;32mfor\u001b[0m \u001b[0mk\u001b[0m \u001b[1;32min\u001b[0m \u001b[0mrange\u001b[0m\u001b[1;33m(\u001b[0m\u001b[0mN\u001b[0m\u001b[1;33m)\u001b[0m\u001b[1;33m]\u001b[0m \u001b[1;33m)\u001b[0m\u001b[1;33m,\u001b[0m \u001b[1;33m(\u001b[0m\u001b[0mN\u001b[0m\u001b[1;33m,\u001b[0m \u001b[0mN\u001b[0m\u001b[1;33m)\u001b[0m \u001b[1;33m)\u001b[0m\u001b[1;33m\u001b[0m\u001b[1;33m\u001b[0m\u001b[0m\n\u001b[0m\u001b[0;32m     12\u001b[0m     \u001b[0mb\u001b[0m \u001b[1;33m=\u001b[0m \u001b[0mnp\u001b[0m\u001b[1;33m.\u001b[0m\u001b[0masarray\u001b[0m\u001b[1;33m(\u001b[0m \u001b[1;33m[\u001b[0m\u001b[0mScalarProd\u001b[0m\u001b[1;33m(\u001b[0m\u001b[0mf\u001b[0m\u001b[1;33m,\u001b[0m \u001b[1;33m-\u001b[0m\u001b[1;36m1\u001b[0m\u001b[1;33m,\u001b[0m \u001b[0mphi\u001b[0m\u001b[1;33m,\u001b[0m \u001b[0mk\u001b[0m\u001b[1;33m+\u001b[0m\u001b[1;36m1\u001b[0m\u001b[1;33m)\u001b[0m \u001b[1;32mfor\u001b[0m \u001b[0mk\u001b[0m \u001b[1;32min\u001b[0m \u001b[0mrange\u001b[0m\u001b[1;33m(\u001b[0m\u001b[0mN\u001b[0m\u001b[1;33m)\u001b[0m\u001b[1;33m]\u001b[0m \u001b[1;33m)\u001b[0m\u001b[1;33m\u001b[0m\u001b[1;33m\u001b[0m\u001b[0m\n\u001b[0;32m     13\u001b[0m \u001b[1;33m\u001b[0m\u001b[0m\n",
      "\u001b[1;32m<ipython-input-282-db829b15fba8>\u001b[0m in \u001b[0;36mScalarProd\u001b[1;34m(f, i, g, k, N)\u001b[0m\n\u001b[0;32m     27\u001b[0m     \u001b[1;34m\"\"\"Считаем скалярное произведение двух функций на отрезке методом Гауссовых квадратур\"\"\"\u001b[0m\u001b[1;33m\u001b[0m\u001b[1;33m\u001b[0m\u001b[0m\n\u001b[0;32m     28\u001b[0m     \u001b[1;34m\"\"\"Функция f имеет индекс i, функция g имеет индекс k\"\"\"\u001b[0m\u001b[1;33m\u001b[0m\u001b[1;33m\u001b[0m\u001b[0m\n\u001b[1;32m---> 29\u001b[1;33m     \u001b[0mroots\u001b[0m\u001b[1;33m,\u001b[0m \u001b[0mmu\u001b[0m \u001b[1;33m=\u001b[0m \u001b[0mroots_legendre\u001b[0m\u001b[1;33m(\u001b[0m\u001b[0mN\u001b[0m\u001b[1;33m,\u001b[0m \u001b[0mmu\u001b[0m\u001b[1;33m=\u001b[0m\u001b[1;32mFalse\u001b[0m\u001b[1;33m)\u001b[0m\u001b[1;33m\u001b[0m\u001b[1;33m\u001b[0m\u001b[0m\n\u001b[0m\u001b[0;32m     30\u001b[0m     \u001b[0mintegral\u001b[0m \u001b[1;33m=\u001b[0m \u001b[1;36m0\u001b[0m\u001b[1;33m\u001b[0m\u001b[1;33m\u001b[0m\u001b[0m\n\u001b[0;32m     31\u001b[0m     \u001b[1;32mfor\u001b[0m \u001b[0mn\u001b[0m \u001b[1;32min\u001b[0m \u001b[0mrange\u001b[0m\u001b[1;33m(\u001b[0m\u001b[0mN\u001b[0m\u001b[1;33m)\u001b[0m\u001b[1;33m:\u001b[0m\u001b[1;33m\u001b[0m\u001b[1;33m\u001b[0m\u001b[0m\n",
      "\u001b[1;32mD:\\Anaconda\\lib\\site-packages\\scipy\\special\\orthogonal.py\u001b[0m in \u001b[0;36mroots_legendre\u001b[1;34m(n, mu)\u001b[0m\n\u001b[0;32m   2037\u001b[0m     df = lambda n, x: (-n*x*cephes.eval_legendre(n, x)\n\u001b[0;32m   2038\u001b[0m                      + n*cephes.eval_legendre(n-1, x))/(1-x**2)\n\u001b[1;32m-> 2039\u001b[1;33m     \u001b[1;32mreturn\u001b[0m \u001b[0m_gen_roots_and_weights\u001b[0m\u001b[1;33m(\u001b[0m\u001b[0mm\u001b[0m\u001b[1;33m,\u001b[0m \u001b[0mmu0\u001b[0m\u001b[1;33m,\u001b[0m \u001b[0man_func\u001b[0m\u001b[1;33m,\u001b[0m \u001b[0mbn_func\u001b[0m\u001b[1;33m,\u001b[0m \u001b[0mf\u001b[0m\u001b[1;33m,\u001b[0m \u001b[0mdf\u001b[0m\u001b[1;33m,\u001b[0m \u001b[1;32mTrue\u001b[0m\u001b[1;33m,\u001b[0m \u001b[0mmu\u001b[0m\u001b[1;33m)\u001b[0m\u001b[1;33m\u001b[0m\u001b[1;33m\u001b[0m\u001b[0m\n\u001b[0m\u001b[0;32m   2040\u001b[0m \u001b[1;33m\u001b[0m\u001b[0m\n\u001b[0;32m   2041\u001b[0m \u001b[1;33m\u001b[0m\u001b[0m\n",
      "\u001b[1;32mD:\\Anaconda\\lib\\site-packages\\scipy\\special\\orthogonal.py\u001b[0m in \u001b[0;36m_gen_roots_and_weights\u001b[1;34m(n, mu0, an_func, bn_func, f, df, symmetrize, mu)\u001b[0m\n\u001b[0;32m    201\u001b[0m \u001b[1;33m\u001b[0m\u001b[0m\n\u001b[0;32m    202\u001b[0m     \u001b[0mfm\u001b[0m \u001b[1;33m=\u001b[0m \u001b[0mf\u001b[0m\u001b[1;33m(\u001b[0m\u001b[0mn\u001b[0m\u001b[1;33m-\u001b[0m\u001b[1;36m1\u001b[0m\u001b[1;33m,\u001b[0m \u001b[0mx\u001b[0m\u001b[1;33m)\u001b[0m\u001b[1;33m\u001b[0m\u001b[1;33m\u001b[0m\u001b[0m\n\u001b[1;32m--> 203\u001b[1;33m     \u001b[0mfm\u001b[0m \u001b[1;33m/=\u001b[0m \u001b[0mnp\u001b[0m\u001b[1;33m.\u001b[0m\u001b[0mabs\u001b[0m\u001b[1;33m(\u001b[0m\u001b[0mfm\u001b[0m\u001b[1;33m)\u001b[0m\u001b[1;33m.\u001b[0m\u001b[0mmax\u001b[0m\u001b[1;33m(\u001b[0m\u001b[1;33m)\u001b[0m\u001b[1;33m\u001b[0m\u001b[1;33m\u001b[0m\u001b[0m\n\u001b[0m\u001b[0;32m    204\u001b[0m     \u001b[0mdy\u001b[0m \u001b[1;33m/=\u001b[0m \u001b[0mnp\u001b[0m\u001b[1;33m.\u001b[0m\u001b[0mabs\u001b[0m\u001b[1;33m(\u001b[0m\u001b[0mdy\u001b[0m\u001b[1;33m)\u001b[0m\u001b[1;33m.\u001b[0m\u001b[0mmax\u001b[0m\u001b[1;33m(\u001b[0m\u001b[1;33m)\u001b[0m\u001b[1;33m\u001b[0m\u001b[1;33m\u001b[0m\u001b[0m\n\u001b[0;32m    205\u001b[0m     \u001b[0mw\u001b[0m \u001b[1;33m=\u001b[0m \u001b[1;36m1.0\u001b[0m \u001b[1;33m/\u001b[0m \u001b[1;33m(\u001b[0m\u001b[0mfm\u001b[0m \u001b[1;33m*\u001b[0m \u001b[0mdy\u001b[0m\u001b[1;33m)\u001b[0m\u001b[1;33m\u001b[0m\u001b[1;33m\u001b[0m\u001b[0m\n",
      "\u001b[1;32mD:\\Anaconda\\lib\\site-packages\\numpy\\core\\_methods.py\u001b[0m in \u001b[0;36m_amax\u001b[1;34m(a, axis, out, keepdims, initial, where)\u001b[0m\n\u001b[0;32m     28\u001b[0m def _amax(a, axis=None, out=None, keepdims=False,\n\u001b[0;32m     29\u001b[0m           initial=_NoValue, where=True):\n\u001b[1;32m---> 30\u001b[1;33m     \u001b[1;32mreturn\u001b[0m \u001b[0mumr_maximum\u001b[0m\u001b[1;33m(\u001b[0m\u001b[0ma\u001b[0m\u001b[1;33m,\u001b[0m \u001b[0maxis\u001b[0m\u001b[1;33m,\u001b[0m \u001b[1;32mNone\u001b[0m\u001b[1;33m,\u001b[0m \u001b[0mout\u001b[0m\u001b[1;33m,\u001b[0m \u001b[0mkeepdims\u001b[0m\u001b[1;33m,\u001b[0m \u001b[0minitial\u001b[0m\u001b[1;33m,\u001b[0m \u001b[0mwhere\u001b[0m\u001b[1;33m)\u001b[0m\u001b[1;33m\u001b[0m\u001b[1;33m\u001b[0m\u001b[0m\n\u001b[0m\u001b[0;32m     31\u001b[0m \u001b[1;33m\u001b[0m\u001b[0m\n\u001b[0;32m     32\u001b[0m def _amin(a, axis=None, out=None, keepdims=False,\n",
      "\u001b[1;31mKeyboardInterrupt\u001b[0m: "
     ]
    }
   ],
   "source": [
    "\"\"\"Стандартная функция GetIter, немного переписанная под метод Галеркина\"\"\"\n",
    "def GetIter(N, tol):\n",
    "    \"\"\"Вычисляет число интерций необходимых для достижения требуемой отн. ошибки\"\"\"\n",
    "    \"\"\"tol - наибольшая относительная ошибка на сетке значений x\"\"\"\n",
    "    ### Делаем 1-й шаг итерации\n",
    "    err = 1\n",
    "    beta1 = GalerkinSolve(Psi, phi, f, N)\n",
    "    \n",
    "    while err > tol:\n",
    "        \n",
    "        ### Удваиваем чтисло промежуточных узлов вдвое\n",
    "        N = N*2\n",
    "        beta2 = GalerkinSolve(Psi, phi, f, N)\n",
    "        \n",
    "        ### Ставим сетку и меряем максимальную относительную разность\n",
    "        x = np.linspace(-1, 1, K)\n",
    "        delta = (y(x, beta1)-y(x, beta2))/y(x, beta1)\n",
    "        err = max([abs(np.max(delta)), abs(np.min(delta))])\n",
    "        print(f\"N = 2e{math.log(N, 2)}, error = {err}\")\n",
    "        \n",
    "        beta1 = beta2\n",
    "        \n",
    "    return N\n",
    "\n",
    "N = GetIter(2, 1e-6)"
   ]
  },
  {
   "cell_type": "markdown",
   "metadata": {},
   "source": [
    "Для метода Галёркина со степенными базисными функциями достигается точность ~1e-5"
   ]
  },
  {
   "cell_type": "markdown",
   "metadata": {},
   "source": [
    "Итак, метод Галеркина даёт иное решение, нежели метод конечных разностей. Возможные пути разбирательства:\n",
    "\n",
    "    1) Попробовать другие ортогональные функции\n",
    "    \n",
    "    2) Попробовать спроецировать уравнение на другие ортогональные функции\n",
    "    \n",
    "    3) Применить к уравнению третий метод, например метод Ритца"
   ]
  }
 ],
 "metadata": {
  "kernelspec": {
   "display_name": "Python 3",
   "language": "python",
   "name": "python3"
  },
  "language_info": {
   "codemirror_mode": {
    "name": "ipython",
    "version": 3
   },
   "file_extension": ".py",
   "mimetype": "text/x-python",
   "name": "python",
   "nbconvert_exporter": "python",
   "pygments_lexer": "ipython3",
   "version": "3.7.6"
  }
 },
 "nbformat": 4,
 "nbformat_minor": 2
}
