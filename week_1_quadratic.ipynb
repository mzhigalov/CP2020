{
 "cells": [
  {
   "cell_type": "markdown",
   "metadata": {},
   "source": [
    "## Solve a quadratic equation, $x^2 + b x + c = 0$.\n",
    "\n",
    "\n",
    "Write a function which receives $b$ and $c$, the coefficients of a monic quadratic polynomial, $x^2 + b x + c$, and returns the pair of its roots. Your function should always return two values, even if quadratic has a double root.\n",
    "\n",
    "For example, given a quadratic $x^2 - 2x + 1$, your function should return a pair of $(1, 1)$. Of course, in floating point, your answers may differ from an exact unity.\n",
    "\n",
    "Your function also must correctly handle complex roots (to this end, you might need the `cmath` module from the standard library)."
   ]
  },
  {
   "cell_type": "code",
   "execution_count": 104,
   "metadata": {},
   "outputs": [
    {
     "name": "stdout",
     "output_type": "stream",
     "text": [
      "-3.0 -1.0\n",
      "-10000000000.0 -2.9999999991e-10\n",
      "10000000000.0 4.0000000016e-10\n"
     ]
    }
   ],
   "source": [
    "### Решаем вопрос вблизи порядков машинной точности\n",
    "### ручным разложением корня в ряд Тейлора по -4c/b^2\n",
    "def sqrt_delta(b, c):\n",
    "    sqrt_delta = 0\n",
    "    coef = 1/2\n",
    "    for i in range(5):\n",
    "        num = ((-1)*4*c)**(i+1)/(b**(i+1))\n",
    "        denom = math.factorial(i+1)\n",
    "        sqrt_delta += ( coef ) * ( (num)/(denom) )\n",
    "        coef = coef*(coef-i)\n",
    "    return sqrt_delta\n",
    "\n",
    "### При желании аналогично можно поступить и в случаях с ~ 1e10 и небольших b.\n",
    "### В этом случае будем раскладывать корень в ряд уже по b^2/4c\n",
    "def solve_quad(b, c):\n",
    "    \"\"\"Solve a quadratic equation, x**2 + bx + c = 0.\n",
    "    \n",
    "    Parameters\n",
    "    ----------\n",
    "    b, c : float\n",
    "       Coefficients\n",
    "       \n",
    "    Returns\n",
    "    -------\n",
    "    x1, x2 : float or complex\n",
    "       Roots.\n",
    "    \"\"\"\n",
    "    x1 = 1 + 1j\n",
    "    x2 = 1 + 1j\n",
    "    if b**2 == 4*c:\n",
    "        x1 = -b/2\n",
    "        x2 = -b/2\n",
    "    if b**2 > 4*c:\n",
    "        if abs(b) >= 1e10:\n",
    "            x1 = -b\n",
    "            x2 = sqrt_delta(b, c)/2\n",
    "        else:\n",
    "            x1 = (-b - b*math.sqrt(abs(1-4*c/(b**2))))/2\n",
    "            x2 = (-b + b*math.sqrt(abs(1-4*c/(b**2))))/2\n",
    "    if b**2 < 4*c:\n",
    "        x1 = (-b - math.sqrt(abs(4*c-b**2))*1j)/2\n",
    "        x2 = (-b + math.sqrt(abs(4*c-b**2))*1j)/2\n",
    "    return x1, x2\n",
    "\n",
    "x1, x2 = solve_quad(4, 3)\n",
    "print(x1, x2)\n",
    "x1, x2 = solve_quad(1e10, 3)\n",
    "print(x1, x2)\n",
    "x1, x2 = solve_quad(-1e10, 4)\n",
    "print(x1, x2)"
   ]
  },
  {
   "cell_type": "markdown",
   "metadata": {},
   "source": [
    "Test the your function on several examples against a calculation by hand. Once you're sure that your function works, try these five test cases below. \n",
    "\n",
    "Note that the last two test cases are special: they test whether your function handles extreme cases where a too simple approach is prone to a catastrophic cancellation. Make sure your function passes all five tests.\n",
    "\n",
    "This exercise is graded, each test case contributes a 20% of the grade. "
   ]
  },
  {
   "cell_type": "code",
   "execution_count": 105,
   "metadata": {},
   "outputs": [],
   "source": [
    "from numpy import allclose\n",
    "import math\n",
    "import cmath\n",
    "\n",
    "\n"
   ]
  },
  {
   "cell_type": "code",
   "execution_count": 107,
   "metadata": {},
   "outputs": [],
   "source": [
    "variants = [{'b': 4.0, 'c': 3.0},\n",
    "            {'b': 2.0, 'c': 1.0},\n",
    "            {'b': 0.5, 'c': 4.0},\n",
    "            {'b': 1e10, 'c': 3.0},\n",
    "            {'b': -1e10, 'c': 4.0},]"
   ]
  },
  {
   "cell_type": "code",
   "execution_count": 108,
   "metadata": {},
   "outputs": [
    {
     "name": "stdout",
     "output_type": "stream",
     "text": [
      "True\n",
      "True\n",
      "True\n",
      "True\n",
      "True\n"
     ]
    }
   ],
   "source": [
    "for var in variants:\n",
    "    x1, x2 = solve_quad(**var)\n",
    "    print(allclose(x1*x2, var['c']))"
   ]
  }
 ],
 "metadata": {
  "kernelspec": {
   "display_name": "Python 3",
   "language": "python",
   "name": "python3"
  },
  "language_info": {
   "codemirror_mode": {
    "name": "ipython",
    "version": 3
   },
   "file_extension": ".py",
   "mimetype": "text/x-python",
   "name": "python",
   "nbconvert_exporter": "python",
   "pygments_lexer": "ipython3",
   "version": "3.7.3"
  }
 },
 "nbformat": 4,
 "nbformat_minor": 2
}
